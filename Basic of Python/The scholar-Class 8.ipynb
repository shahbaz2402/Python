{
 "cells": [
  {
   "cell_type": "code",
   "execution_count": 1,
   "metadata": {},
   "outputs": [
    {
     "ename": "ZeroDivisionError",
     "evalue": "division by zero",
     "output_type": "error",
     "traceback": [
      "\u001b[1;31m---------------------------------------------------------------------------\u001b[0m",
      "\u001b[1;31mZeroDivisionError\u001b[0m                         Traceback (most recent call last)",
      "\u001b[1;32m<ipython-input-1-fe01563e1bc6>\u001b[0m in \u001b[0;36m<module>\u001b[1;34m\u001b[0m\n\u001b[1;32m----> 1\u001b[1;33m \u001b[0mprint\u001b[0m\u001b[1;33m(\u001b[0m\u001b[1;36m10\u001b[0m\u001b[1;33m/\u001b[0m\u001b[1;36m0\u001b[0m\u001b[1;33m)\u001b[0m\u001b[1;33m\u001b[0m\u001b[1;33m\u001b[0m\u001b[0m\n\u001b[0m",
      "\u001b[1;31mZeroDivisionError\u001b[0m: division by zero"
     ]
    }
   ],
   "source": [
    "print(10/0)"
   ]
  },
  {
   "cell_type": "code",
   "execution_count": 2,
   "metadata": {},
   "outputs": [
    {
     "name": "stdout",
     "output_type": "stream",
     "text": [
      "Enter the no 122\n",
      "Enter the no 222\n",
      "None\n",
      "1.0\n"
     ]
    }
   ],
   "source": [
    "result=None\n",
    "no1 = int(input('Enter the no 1'))\n",
    "no2 = int(input('Enter the no 2'))\n",
    "print(result)\n",
    "result=no1/no2\n",
    "print(result)"
   ]
  },
  {
   "cell_type": "code",
   "execution_count": 4,
   "metadata": {},
   "outputs": [
    {
     "name": "stdout",
     "output_type": "stream",
     "text": [
      "Enter the number1 :10\n",
      "Enter the number2 :0\n",
      "None\n",
      "Erroe in the code\n",
      "None\n"
     ]
    }
   ],
   "source": [
    "result=None\n",
    "a=int(input('Enter the number1 :'))\n",
    "b=int(input('Enter the number2 :'))\n",
    "print(result)\n",
    "try:\n",
    "    result = a/b\n",
    "except: \n",
    "    print('Erroe in the code')\n",
    "print(result)"
   ]
  },
  {
   "cell_type": "code",
   "execution_count": 8,
   "metadata": {},
   "outputs": [
    {
     "name": "stdout",
     "output_type": "stream",
     "text": [
      "Enter the number1:a\n",
      "invalid literal for int() with base 10: 'a'\n",
      "Error in the code\n",
      "None\n"
     ]
    }
   ],
   "source": [
    "result = None\n",
    "try:\n",
    "    a=int(input('Enter the number1:'))\n",
    "    b=int(input('Enter the number2:'))\n",
    "    print(result)\n",
    "    result = a/b\n",
    "except Exception as e:\n",
    "    print((e))\n",
    "    print('Error in the code')\n",
    "print(result)"
   ]
  },
  {
   "cell_type": "code",
   "execution_count": null,
   "metadata": {},
   "outputs": [],
   "source": [
    "try:\n",
    "    statement1\n",
    "    statement2\n",
    "except:\n",
    "    statement3\n",
    "    statement4\n",
    "statement5"
   ]
  },
  {
   "cell_type": "code",
   "execution_count": 11,
   "metadata": {},
   "outputs": [
    {
     "name": "stdout",
     "output_type": "stream",
     "text": [
      "10\n",
      "10\n",
      "10\n",
      "20\n"
     ]
    }
   ],
   "source": [
    "try:\n",
    "    print(10)\n",
    "    print(10)\n",
    "    print(10)\n",
    "except:\n",
    "    print('100')\n",
    "print(20)"
   ]
  },
  {
   "cell_type": "code",
   "execution_count": 19,
   "metadata": {},
   "outputs": [
    {
     "name": "stdout",
     "output_type": "stream",
     "text": [
      "outer Try Block\n",
      "inner Try Block \n",
      "Error Occured\n",
      "inner Except Block\n",
      "10\n",
      "statement3\n"
     ]
    }
   ],
   "source": [
    "try:\n",
    "    print('outer Try Block')\n",
    "    try:\n",
    "        print('inner Try Block ')\n",
    "        print(20/0)\n",
    "    except:\n",
    "        print('Error Occured')\n",
    "        print('inner Except Block')\n",
    "    print(10)\n",
    "except:\n",
    "    print('outer except block')\n",
    "print('statement3')"
   ]
  },
  {
   "cell_type": "code",
   "execution_count": 23,
   "metadata": {},
   "outputs": [
    {
     "name": "stdout",
     "output_type": "stream",
     "text": [
      "enter first number10\n",
      "enter Second number20\n",
      "0.5 30\n"
     ]
    }
   ],
   "source": [
    "result=None\n",
    "try:\n",
    "    x=int(input('enter first number'))\n",
    "    y=int(input('enter Second number'))\n",
    "    result=x/y\n",
    "except:\n",
    "    print('Error in the code')\n",
    "else:\n",
    "    result1=x+y\n",
    "print(result,result1)\n",
    "    "
   ]
  },
  {
   "cell_type": "code",
   "execution_count": 24,
   "metadata": {},
   "outputs": [
    {
     "name": "stdout",
     "output_type": "stream",
     "text": [
      "enter first number10\n",
      "enter Second number0\n",
      "Error in the code\n",
      "None None\n"
     ]
    }
   ],
   "source": [
    "result=None\n",
    "result1=None\n",
    "try:\n",
    "    x=int(input('enter first number'))\n",
    "    y=int(input('enter Second number'))\n",
    "    result=x/y\n",
    "except:\n",
    "    print('Error in the code')\n",
    "else:\n",
    "    result1=x+y\n",
    "print(result,result1)"
   ]
  },
  {
   "cell_type": "code",
   "execution_count": 28,
   "metadata": {},
   "outputs": [
    {
     "name": "stdout",
     "output_type": "stream",
     "text": [
      "enter first number10\n",
      "enter Second number1\n",
      "10.0 11\n",
      "code ran fine and the final output is 10.0 11\n"
     ]
    }
   ],
   "source": [
    "result=None\n",
    "result1=None\n",
    "try:\n",
    "    x=int(input('enter first number'))\n",
    "    y=int(input('enter Second number'))\n",
    "    result=x/y\n",
    "except:\n",
    "    print('Error in the code')\n",
    "else:\n",
    "    result1=x+y\n",
    "    print(result,result1)\n",
    "\n",
    "finally:\n",
    "    print('code ran fine and the final output is', result ,result1)"
   ]
  },
  {
   "cell_type": "code",
   "execution_count": 29,
   "metadata": {},
   "outputs": [
    {
     "name": "stdout",
     "output_type": "stream",
     "text": [
      "statement1\n",
      "statement2\n",
      "statement10\n",
      "statement11\n",
      "statement12\n"
     ]
    }
   ],
   "source": [
    "try:\n",
    "    print('statement1')\n",
    "    print('statement2')\n",
    "    print(10/0)\n",
    "    try:\n",
    "        print('statement4')\n",
    "        print('statement5')\n",
    "        print('statement6')\n",
    "    except:\n",
    "        print('statement7')\n",
    "    else:\n",
    "        print('statement7.1')\n",
    "    finally:\n",
    "        print('statement8')\n",
    "    print('statement9')\n",
    "except:\n",
    "    print('statement10')\n",
    "else:\n",
    "    print('statement10.0')\n",
    "finally:\n",
    "    print('statement11')\n",
    "print('statement12')"
   ]
  },
  {
   "cell_type": "code",
   "execution_count": 30,
   "metadata": {},
   "outputs": [
    {
     "name": "stdout",
     "output_type": "stream",
     "text": [
      "statement1\n",
      "statement2\n",
      "statement3\n",
      "statement4\n",
      "statement5\n",
      "statement7\n",
      "statement8\n",
      "statement9\n",
      "statement10.0\n",
      "statement11\n",
      "statement12\n"
     ]
    }
   ],
   "source": [
    "try:\n",
    "    print('statement1')\n",
    "    print('statement2')\n",
    "    print('statement3')\n",
    "    try:\n",
    "        print('statement4')\n",
    "        print('statement5')\n",
    "        print(10/0)\n",
    "    except:\n",
    "        print('statement7')\n",
    "    else:\n",
    "        print('statement7.1')\n",
    "    finally:\n",
    "        print('statement8')\n",
    "    print('statement9')\n",
    "except:\n",
    "    print('statement10')\n",
    "else:\n",
    "    print('statement10.0')\n",
    "finally:\n",
    "    print('statement11')\n",
    "print('statement12')"
   ]
  },
  {
   "cell_type": "code",
   "execution_count": 31,
   "metadata": {},
   "outputs": [
    {
     "name": "stdout",
     "output_type": "stream",
     "text": [
      "statement1\n",
      "statement2\n",
      "statement3\n",
      "statement4\n",
      "statement5\n",
      "statement6\n",
      "statement8\n",
      "statement10\n",
      "statement11\n",
      "statement12\n"
     ]
    }
   ],
   "source": [
    "try:\n",
    "    print('statement1')\n",
    "    print('statement2')\n",
    "    print('statement3')\n",
    "    try:\n",
    "        print('statement4')\n",
    "        print('statement5')\n",
    "        print('statement6')\n",
    "    except:\n",
    "        print('statement7')\n",
    "    else:\n",
    "        print(10/0)\n",
    "    finally:\n",
    "        print('statement8')\n",
    "    print('statement9')\n",
    "except:\n",
    "    print('statement10')\n",
    "else:\n",
    "    print('statement10.0')\n",
    "finally:\n",
    "    print('statement11')\n",
    "print('statement12')"
   ]
  },
  {
   "cell_type": "code",
   "execution_count": 37,
   "metadata": {},
   "outputs": [
    {
     "name": "stdout",
     "output_type": "stream",
     "text": [
      "statement4\n",
      "statement5\n",
      "statement6\n",
      "statement8\n"
     ]
    },
    {
     "ename": "ZeroDivisionError",
     "evalue": "division by zero",
     "output_type": "error",
     "traceback": [
      "\u001b[1;31m---------------------------------------------------------------------------\u001b[0m",
      "\u001b[1;31mZeroDivisionError\u001b[0m                         Traceback (most recent call last)",
      "\u001b[1;32m<ipython-input-37-207a00dec25f>\u001b[0m in \u001b[0;36m<module>\u001b[1;34m\u001b[0m\n\u001b[0;32m      6\u001b[0m     \u001b[0mprint\u001b[0m\u001b[1;33m(\u001b[0m\u001b[1;34m'statement7'\u001b[0m\u001b[1;33m)\u001b[0m\u001b[1;33m\u001b[0m\u001b[1;33m\u001b[0m\u001b[0m\n\u001b[0;32m      7\u001b[0m \u001b[1;32melse\u001b[0m\u001b[1;33m:\u001b[0m\u001b[1;33m\u001b[0m\u001b[1;33m\u001b[0m\u001b[0m\n\u001b[1;32m----> 8\u001b[1;33m     \u001b[0mprint\u001b[0m\u001b[1;33m(\u001b[0m\u001b[1;36m10\u001b[0m\u001b[1;33m/\u001b[0m\u001b[1;36m0\u001b[0m\u001b[1;33m)\u001b[0m\u001b[1;33m\u001b[0m\u001b[1;33m\u001b[0m\u001b[0m\n\u001b[0m\u001b[0;32m      9\u001b[0m \u001b[1;32mfinally\u001b[0m\u001b[1;33m:\u001b[0m\u001b[1;33m\u001b[0m\u001b[1;33m\u001b[0m\u001b[0m\n\u001b[0;32m     10\u001b[0m     \u001b[0mprint\u001b[0m\u001b[1;33m(\u001b[0m\u001b[1;34m'statement8'\u001b[0m\u001b[1;33m)\u001b[0m\u001b[1;33m\u001b[0m\u001b[1;33m\u001b[0m\u001b[0m\n",
      "\u001b[1;31mZeroDivisionError\u001b[0m: division by zero"
     ]
    }
   ],
   "source": [
    "try:\n",
    "    print('statement4')\n",
    "    print('statement5')\n",
    "    print('statement6')\n",
    "except:\n",
    "    print('statement7')\n",
    "else:\n",
    "    print(10/0)\n",
    "finally:\n",
    "    print('statement8')\n",
    "print('statement9')\n"
   ]
  },
  {
   "cell_type": "code",
   "execution_count": 38,
   "metadata": {},
   "outputs": [
    {
     "name": "stdout",
     "output_type": "stream",
     "text": [
      "s1\n"
     ]
    }
   ],
   "source": [
    "try:\n",
    "    print('s1')\n",
    "except:\n",
    "    print('s1')"
   ]
  },
  {
   "cell_type": "code",
   "execution_count": 39,
   "metadata": {},
   "outputs": [
    {
     "ename": "SyntaxError",
     "evalue": "invalid syntax (<ipython-input-39-178bac382bc0>, line 3)",
     "output_type": "error",
     "traceback": [
      "\u001b[1;36m  File \u001b[1;32m\"<ipython-input-39-178bac382bc0>\"\u001b[1;36m, line \u001b[1;32m3\u001b[0m\n\u001b[1;33m    else:\u001b[0m\n\u001b[1;37m       ^\u001b[0m\n\u001b[1;31mSyntaxError\u001b[0m\u001b[1;31m:\u001b[0m invalid syntax\n"
     ]
    }
   ],
   "source": [
    "try:\n",
    "    print('s1')\n",
    "else:\n",
    "    print('s1')"
   ]
  },
  {
   "cell_type": "code",
   "execution_count": 40,
   "metadata": {},
   "outputs": [
    {
     "name": "stdout",
     "output_type": "stream",
     "text": [
      "s1\n",
      "s1\n"
     ]
    }
   ],
   "source": [
    "try:\n",
    "    print('s1')\n",
    "finally:\n",
    "    print('s1')"
   ]
  },
  {
   "cell_type": "code",
   "execution_count": 42,
   "metadata": {},
   "outputs": [
    {
     "name": "stdout",
     "output_type": "stream",
     "text": [
      "s1\n",
      "s3\n"
     ]
    }
   ],
   "source": [
    "try:\n",
    "    print('s1')\n",
    "except:\n",
    "    print('s2')\n",
    "finally:\n",
    "    print('s3')"
   ]
  },
  {
   "cell_type": "code",
   "execution_count": 43,
   "metadata": {},
   "outputs": [
    {
     "ename": "SyntaxError",
     "evalue": "invalid syntax (<ipython-input-43-d47c748866c3>, line 1)",
     "output_type": "error",
     "traceback": [
      "\u001b[1;36m  File \u001b[1;32m\"<ipython-input-43-d47c748866c3>\"\u001b[1;36m, line \u001b[1;32m1\u001b[0m\n\u001b[1;33m    except:\u001b[0m\n\u001b[1;37m         ^\u001b[0m\n\u001b[1;31mSyntaxError\u001b[0m\u001b[1;31m:\u001b[0m invalid syntax\n"
     ]
    }
   ],
   "source": [
    "except:\n",
    "    print('s2')"
   ]
  },
  {
   "cell_type": "code",
   "execution_count": 44,
   "metadata": {},
   "outputs": [
    {
     "ename": "SyntaxError",
     "evalue": "invalid syntax (<ipython-input-44-8861f7986cf5>, line 1)",
     "output_type": "error",
     "traceback": [
      "\u001b[1;36m  File \u001b[1;32m\"<ipython-input-44-8861f7986cf5>\"\u001b[1;36m, line \u001b[1;32m1\u001b[0m\n\u001b[1;33m    finally:\u001b[0m\n\u001b[1;37m          ^\u001b[0m\n\u001b[1;31mSyntaxError\u001b[0m\u001b[1;31m:\u001b[0m invalid syntax\n"
     ]
    }
   ],
   "source": [
    "finally:\n",
    "    print('s3')\n",
    "    "
   ]
  },
  {
   "cell_type": "code",
   "execution_count": 45,
   "metadata": {},
   "outputs": [
    {
     "ename": "SyntaxError",
     "evalue": "unexpected EOF while parsing (<ipython-input-45-7bf3662ddeff>, line 2)",
     "output_type": "error",
     "traceback": [
      "\u001b[1;36m  File \u001b[1;32m\"<ipython-input-45-7bf3662ddeff>\"\u001b[1;36m, line \u001b[1;32m2\u001b[0m\n\u001b[1;33m    print('s3')\u001b[0m\n\u001b[1;37m               ^\u001b[0m\n\u001b[1;31mSyntaxError\u001b[0m\u001b[1;31m:\u001b[0m unexpected EOF while parsing\n"
     ]
    }
   ],
   "source": [
    "try:\n",
    "    print('s3')"
   ]
  },
  {
   "cell_type": "code",
   "execution_count": 46,
   "metadata": {},
   "outputs": [
    {
     "ename": "SyntaxError",
     "evalue": "invalid syntax (<ipython-input-46-e4cfe670c711>, line 1)",
     "output_type": "error",
     "traceback": [
      "\u001b[1;36m  File \u001b[1;32m\"<ipython-input-46-e4cfe670c711>\"\u001b[1;36m, line \u001b[1;32m1\u001b[0m\n\u001b[1;33m    else:\u001b[0m\n\u001b[1;37m       ^\u001b[0m\n\u001b[1;31mSyntaxError\u001b[0m\u001b[1;31m:\u001b[0m invalid syntax\n"
     ]
    }
   ],
   "source": [
    "else:\n",
    "    print('s3')"
   ]
  },
  {
   "cell_type": "code",
   "execution_count": 47,
   "metadata": {},
   "outputs": [
    {
     "name": "stdout",
     "output_type": "stream",
     "text": [
      "s1\n",
      "s3\n"
     ]
    }
   ],
   "source": [
    "try:\n",
    "    print('s1')\n",
    "except:\n",
    "    print('s2')\n",
    "else:\n",
    "    print('s3')"
   ]
  },
  {
   "cell_type": "code",
   "execution_count": 50,
   "metadata": {},
   "outputs": [
    {
     "name": "stdout",
     "output_type": "stream",
     "text": [
      "s1\n"
     ]
    }
   ],
   "source": [
    "try:\n",
    "    print('s1')\n",
    "except zeroDivisionError:\n",
    "    print('s2')\n",
    "except:\n",
    "    print('s3')"
   ]
  },
  {
   "cell_type": "code",
   "execution_count": 51,
   "metadata": {},
   "outputs": [
    {
     "ename": "SyntaxError",
     "evalue": "invalid syntax (<ipython-input-51-77fa87d00a72>, line 5)",
     "output_type": "error",
     "traceback": [
      "\u001b[1;36m  File \u001b[1;32m\"<ipython-input-51-77fa87d00a72>\"\u001b[1;36m, line \u001b[1;32m5\u001b[0m\n\u001b[1;33m    elif:\u001b[0m\n\u001b[1;37m       ^\u001b[0m\n\u001b[1;31mSyntaxError\u001b[0m\u001b[1;31m:\u001b[0m invalid syntax\n"
     ]
    }
   ],
   "source": [
    "try:\n",
    "    print('s1')\n",
    "except:\n",
    "    print('s2')\n",
    "elif:\n",
    "    print('s3')\n",
    "else:\n",
    "    print('s3')"
   ]
  },
  {
   "cell_type": "code",
   "execution_count": 52,
   "metadata": {},
   "outputs": [
    {
     "ename": "SyntaxError",
     "evalue": "invalid syntax (<ipython-input-52-aaa6f8a13693>, line 7)",
     "output_type": "error",
     "traceback": [
      "\u001b[1;36m  File \u001b[1;32m\"<ipython-input-52-aaa6f8a13693>\"\u001b[1;36m, line \u001b[1;32m7\u001b[0m\n\u001b[1;33m    finally:\u001b[0m\n\u001b[1;37m          ^\u001b[0m\n\u001b[1;31mSyntaxError\u001b[0m\u001b[1;31m:\u001b[0m invalid syntax\n"
     ]
    }
   ],
   "source": [
    "try:\n",
    "    print('s1')\n",
    "except:\n",
    "    print('s2')\n",
    "finally:\n",
    "    print('s3')\n",
    "finally:\n",
    "    print('s3')"
   ]
  },
  {
   "cell_type": "code",
   "execution_count": 53,
   "metadata": {},
   "outputs": [
    {
     "ename": "SyntaxError",
     "evalue": "invalid syntax (<ipython-input-53-b704eb4791f6>, line 6)",
     "output_type": "error",
     "traceback": [
      "\u001b[1;36m  File \u001b[1;32m\"<ipython-input-53-b704eb4791f6>\"\u001b[1;36m, line \u001b[1;32m6\u001b[0m\n\u001b[1;33m    finally:\u001b[0m\n\u001b[1;37m          ^\u001b[0m\n\u001b[1;31mSyntaxError\u001b[0m\u001b[1;31m:\u001b[0m invalid syntax\n"
     ]
    }
   ],
   "source": [
    "try:\n",
    "    print('s1')\n",
    "except:\n",
    "    print('s2')\n",
    "print('s3')\n",
    "finally:\n",
    "    print('s3')"
   ]
  },
  {
   "cell_type": "code",
   "execution_count": 54,
   "metadata": {},
   "outputs": [
    {
     "name": "stdout",
     "output_type": "stream",
     "text": [
      "s1\n",
      "s2\n"
     ]
    }
   ],
   "source": [
    "try:\n",
    "    print('s1')\n",
    "except:\n",
    "    print('s1')\n",
    "try:\n",
    "    print('s2')\n",
    "except:\n",
    "    print('s2')"
   ]
  },
  {
   "cell_type": "code",
   "execution_count": 55,
   "metadata": {},
   "outputs": [
    {
     "name": "stdout",
     "output_type": "stream",
     "text": [
      "s1\n",
      "s2\n",
      "s4\n",
      "s20\n",
      "s6\n"
     ]
    }
   ],
   "source": [
    "try:\n",
    "    print('s1')\n",
    "    try:\n",
    "        print('s2')\n",
    "    except:\n",
    "        print('s3')\n",
    "        try:\n",
    "            print('s10')\n",
    "        except:\n",
    "            print('s11')\n",
    "    finally:\n",
    "        print('s4')\n",
    "        try:\n",
    "            print('s20')\n",
    "        except:\n",
    "            print('s21')\n",
    "except:\n",
    "    print('s5')\n",
    "finally:\n",
    "    print('s6')"
   ]
  },
  {
   "cell_type": "code",
   "execution_count": 56,
   "metadata": {},
   "outputs": [],
   "source": [
    "#Types of Exception\n",
    "#predefined Exception/Inbuilt Exception\n",
    "#User defind Exception/Customised exception"
   ]
  },
  {
   "cell_type": "code",
   "execution_count": 67,
   "metadata": {},
   "outputs": [
    {
     "name": "stdout",
     "output_type": "stream",
     "text": [
      "Enter the age27\n",
      "your ticket are booked\n"
     ]
    }
   ],
   "source": [
    "class TooyoungException(Exception):\n",
    "    def __init__(self,arg):\n",
    "        self.msg=arg\n",
    "class ToooldException(Exception):\n",
    "    def __init__(self,arg):\n",
    "        self.msg=arg\n",
    "age =int(input('Enter the age'))\n",
    "if age>60:\n",
    "    raise toooldException('please do not see the movie,else it will be your last movie')\n",
    "elif age<18:\n",
    "    raise tooyoungException('you are too young to see this movie')\n",
    "else:\n",
    "    print('your ticket are booked')\n",
    "    "
   ]
  },
  {
   "cell_type": "code",
   "execution_count": 76,
   "metadata": {},
   "outputs": [
    {
     "name": "stdout",
     "output_type": "stream",
     "text": [
      "Enter the age15\n",
      "too young\n"
     ]
    }
   ],
   "source": [
    "age =int(input('Enter the age'))\n",
    "if age>60:\n",
    "    print('Too old')\n",
    "elif age<18:\n",
    "    print('too young')\n",
    "else:\n",
    "    print('your ticket are booked')"
   ]
  },
  {
   "cell_type": "code",
   "execution_count": 70,
   "metadata": {},
   "outputs": [],
   "source": [
    "#oops concept"
   ]
  },
  {
   "cell_type": "code",
   "execution_count": 71,
   "metadata": {},
   "outputs": [
    {
     "data": {
      "text/plain": [
       "50.0"
      ]
     },
     "execution_count": 71,
     "metadata": {},
     "output_type": "execute_result"
    }
   ],
   "source": [
    "def ctof(c):\n",
    "    f=(c*9/5)+32\n",
    "    return f\n",
    "ctof(10)"
   ]
  },
  {
   "cell_type": "code",
   "execution_count": 75,
   "metadata": {},
   "outputs": [
    {
     "name": "stdout",
     "output_type": "stream",
     "text": [
      "50.0\n",
      "68.0\n",
      "86.0\n",
      "104.0\n",
      "122.0\n",
      "140.0\n"
     ]
    }
   ],
   "source": [
    "class CtoF:\n",
    "    def __init__(self,c):\n",
    "        self.c=c\n",
    "    def ctof(self):\n",
    "        f = (self.c * 9/5) + 32\n",
    "        print(f)\n",
    "c1 = CtoF(10)\n",
    "c1.ctof()\n",
    "c2 = CtoF(20)\n",
    "c2.ctof()\n",
    "c3 = CtoF(30)\n",
    "c3.ctof()\n",
    "c4 = CtoF(40)\n",
    "c4.ctof()\n",
    "c5 = CtoF(50)\n",
    "c5.ctof()\n",
    "c6 = CtoF(60)\n",
    "c6.ctof()"
   ]
  },
  {
   "cell_type": "code",
   "execution_count": null,
   "metadata": {},
   "outputs": [],
   "source": []
  }
 ],
 "metadata": {
  "kernelspec": {
   "display_name": "Python 3",
   "language": "python",
   "name": "python3"
  },
  "language_info": {
   "codemirror_mode": {
    "name": "ipython",
    "version": 3
   },
   "file_extension": ".py",
   "mimetype": "text/x-python",
   "name": "python",
   "nbconvert_exporter": "python",
   "pygments_lexer": "ipython3",
   "version": "3.7.4"
  }
 },
 "nbformat": 4,
 "nbformat_minor": 2
}
