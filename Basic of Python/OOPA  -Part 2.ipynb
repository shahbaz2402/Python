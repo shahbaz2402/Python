{
 "cells": [
  {
   "cell_type": "code",
   "execution_count": 11,
   "metadata": {},
   "outputs": [
    {
     "name": "stdout",
     "output_type": "stream",
     "text": [
      "A\n"
     ]
    },
    {
     "data": {
      "text/plain": [
       "[__main__.P,\n",
       " __main__.X,\n",
       " __main__.A,\n",
       " __main__.Y,\n",
       " __main__.B,\n",
       " __main__.C,\n",
       " object]"
      ]
     },
     "execution_count": 11,
     "metadata": {},
     "output_type": "execute_result"
    }
   ],
   "source": [
    "class A:\n",
    "    def m1(self):\n",
    "        print('A')\n",
    "class B:\n",
    "    def m1(self):\n",
    "        print('B')\n",
    "class C:\n",
    "    def m1(self):\n",
    "        print('C')\n",
    "class X(A,B):\n",
    "    def m2(self):\n",
    "        print('X')\n",
    "class Y(B,C):\n",
    "    def m1(self):\n",
    "        print('Y')\n",
    "class P(X,Y,C):\n",
    "    def m2(self):\n",
    "        print('P')\n",
    "p = P()\n",
    "p.m1()\n",
    "P.mro()\n"
   ]
  },
  {
   "cell_type": "code",
   "execution_count": 15,
   "metadata": {},
   "outputs": [
    {
     "data": {
      "text/plain": [
       "[__main__.Y, __main__.B, __main__.C, object]"
      ]
     },
     "execution_count": 15,
     "metadata": {},
     "output_type": "execute_result"
    }
   ],
   "source": [
    "A.mro()#- (AO)\n",
    "B.mro()#- (BO)\n",
    "C.mro()#- (CO)\n",
    "X.mro()#- (XABO)\n",
    "Y.mro()#- (YBCO)"
   ]
  },
  {
   "cell_type": "code",
   "execution_count": 16,
   "metadata": {},
   "outputs": [
    {
     "ename": "SyntaxError",
     "evalue": "invalid syntax (<ipython-input-16-4e1bdee9d504>, line 10)",
     "output_type": "error",
     "traceback": [
      "\u001b[1;36m  File \u001b[1;32m\"<ipython-input-16-4e1bdee9d504>\"\u001b[1;36m, line \u001b[1;32m10\u001b[0m\n\u001b[1;33m    MRO(P) = P + X + A + B....Hold\u001b[0m\n\u001b[1;37m                            ^\u001b[0m\n\u001b[1;31mSyntaxError\u001b[0m\u001b[1;31m:\u001b[0m invalid syntax\n"
     ]
    }
   ],
   "source": [
    "#C3 liniarization algorithm - Samuel Pedroni\n",
    "\n",
    "#MRO(P)  -P + merge(MRO(P1), MPO(P2), MPO(P3).......,parent list P1P2P3)\n",
    "\n",
    "\n",
    "MRO(P) = P + merge(MRO(X), MPO(Y), MPO(C),XYC)\n",
    "MRO(P) = P + merge(XABO ,YBCB,CO ,XYC)\n",
    "MRO(P) = P + X + merge(ABO ,YBCO,CO ,YC)\n",
    "MRO(P) = P + X + A + merge(BO ,YBCO,CO ,YC)\n",
    "MRO(P) = P + X + A + B....Hold\n",
    "MRO(P) = P + X + A + Y  + merge(BO ,BCO,CO ,C)\n",
    "MRO(P) = P + X + A + Y  + B + merge(O ,CO,CO ,C)\n",
    "MRO(P) = P + X + A + Y  + B + O... Hold\n",
    "MRO(P) = P + X + A + Y  + B + C + merge(O ,O,O)\n",
    "MRO(P) = P + X + A + Y  + B + C + O"
   ]
  },
  {
   "cell_type": "code",
   "execution_count": null,
   "metadata": {},
   "outputs": [],
   "source": [
    "#super()\n",
    "#which is used to call parent class constructor ,methods and variables from the child class"
   ]
  },
  {
   "cell_type": "code",
   "execution_count": 18,
   "metadata": {},
   "outputs": [
    {
     "name": "stdout",
     "output_type": "stream",
     "text": [
      "100\n",
      "200\n",
      "Parent instance method\n"
     ]
    }
   ],
   "source": [
    "class P:\n",
    "    a = 100\n",
    "    def __init__(self):\n",
    "        self.b = 200\n",
    "    \n",
    "    def m1(self):\n",
    "        print('Parent instance method')\n",
    "        \n",
    "    @staticmethod\n",
    "    def m2():\n",
    "        print('Parent static method')\n",
    "        \n",
    "class C(P):\n",
    "    a =100000\n",
    "    def __init__(self):\n",
    "        self.b =90909\n",
    "        super(). __init__()\n",
    "        print(super().a)\n",
    "        print(self.b)\n",
    "        #print(c,a)\n",
    "        super().m1()\n",
    "        \n",
    "c = C()"
   ]
  },
  {
   "cell_type": "code",
   "execution_count": 20,
   "metadata": {},
   "outputs": [
    {
     "name": "stdout",
     "output_type": "stream",
     "text": [
      "C class method\n"
     ]
    }
   ],
   "source": [
    "class A:\n",
    "    def m1(self):\n",
    "        print('A class method')\n",
    "    \n",
    "class B(A):\n",
    "    def m1(self):\n",
    "        print('B class method')\n",
    "        \n",
    "class C(B):\n",
    "    def m1(self):\n",
    "        print('C class method')\n",
    "        \n",
    "class D(C):\n",
    "    def m1(self):\n",
    "        print('D class method')\n",
    "        \n",
    "class E(D):\n",
    "    def m1(self):\n",
    "        #print('E class method')\n",
    "        super(D,self).m1()\n",
    "        \n",
    "        \n",
    "e = E()\n",
    "e.m1()"
   ]
  },
  {
   "cell_type": "code",
   "execution_count": 23,
   "metadata": {},
   "outputs": [
    {
     "name": "stdout",
     "output_type": "stream",
     "text": [
      "300\n"
     ]
    }
   ],
   "source": [
    "class Book:\n",
    "    def __init__(self,pages):\n",
    "        self.pages = pages\n",
    "        \n",
    "    def __add__(self,other):\n",
    "        return self.pages + other.pages\n",
    "    \n",
    "b1=Book(100)\n",
    "b2=Book(200)\n",
    "print(b1+b2)"
   ]
  },
  {
   "cell_type": "code",
   "execution_count": 24,
   "metadata": {},
   "outputs": [
    {
     "name": "stdout",
     "output_type": "stream",
     "text": [
      "750\n"
     ]
    }
   ],
   "source": [
    "class Book:\n",
    "    def __init__(self,pages):\n",
    "        self.pages = pages\n",
    "        \n",
    "    def __add__(self,other):\n",
    "        total = self.pages + other.pages\n",
    "        return Book(total)\n",
    "    \n",
    "    def __str__(self):\n",
    "        return str(self.pages)\n",
    "    \n",
    "    \n",
    "b1=Book(100)\n",
    "b2=Book(200)\n",
    "b3=Book(50)\n",
    "b4=Book(350)\n",
    "b5=Book(50)\n",
    "print(b1+b2+b3+b4+b5)"
   ]
  },
  {
   "cell_type": "code",
   "execution_count": 25,
   "metadata": {},
   "outputs": [
    {
     "name": "stdout",
     "output_type": "stream",
     "text": [
      "M1 with 2 arg\n"
     ]
    }
   ],
   "source": [
    "#Method overloading\n",
    "class Test:\n",
    "    def m1(self):\n",
    "        print('M1 with 0 arg')\n",
    "        \n",
    "    def m1(self,a):\n",
    "        print('M1 with 1 arg')\n",
    "        \n",
    "    def m1(self,a,b):\n",
    "        print('M1 with 2 arg')\n",
    "        \n",
    "        \n",
    "t = Test()\n",
    "t.m1(10,10)"
   ]
  },
  {
   "cell_type": "code",
   "execution_count": 26,
   "metadata": {},
   "outputs": [
    {
     "name": "stdout",
     "output_type": "stream",
     "text": [
      "The sum is 0\n",
      "The sum is 10\n",
      "The sum is 20\n"
     ]
    }
   ],
   "source": [
    "class Test:\n",
    "    def sum(self,*a):\n",
    "        total = 0\n",
    "        for x in a:\n",
    "            total =total + x\n",
    "        print('The sum is', total)\n",
    "        \n",
    "t = Test()\n",
    "t.sum()\n",
    "t.sum(10)\n",
    "t.sum(10,10)"
   ]
  },
  {
   "cell_type": "code",
   "execution_count": 27,
   "metadata": {},
   "outputs": [
    {
     "name": "stdout",
     "output_type": "stream",
     "text": [
      "No arg cons\n"
     ]
    }
   ],
   "source": [
    "class Test:\n",
    "    def __init__(self,a):\n",
    "        print('1 arg cons')\n",
    "        \n",
    "    def __init__(self,a,b):\n",
    "        print('2 arg cons')\n",
    "        \n",
    "    def __init__(self):\n",
    "        print('No arg cons')\n",
    "        \n",
    "t = Test()"
   ]
  },
  {
   "cell_type": "code",
   "execution_count": 28,
   "metadata": {},
   "outputs": [
    {
     "name": "stdout",
     "output_type": "stream",
     "text": [
      "N arguments\n",
      "N arguments\n",
      "N arguments\n"
     ]
    }
   ],
   "source": [
    "class Test:\n",
    "    def __init__(self,*a):\n",
    "        print('N arguments')\n",
    "\n",
    "t = Test()\n",
    "t = Test(10)\n",
    "t = Test(10,20)\n"
   ]
  },
  {
   "cell_type": "code",
   "execution_count": 30,
   "metadata": {},
   "outputs": [
    {
     "name": "stdout",
     "output_type": "stream",
     "text": [
      "Gold, Cash, Car, House\n",
      "A|B|C\n"
     ]
    }
   ],
   "source": [
    "#Method overriding\n",
    "\n",
    "class P:\n",
    "    def property(self):\n",
    "        print('Gold, Cash, Car, House')\n",
    "        \n",
    "    def marriage(self):\n",
    "        print('X|Y|Z')\n",
    "        \n",
    "class C(P):\n",
    "    def marriage(self):\n",
    "        print('A|B|C')\n",
    "        \n",
    "        \n",
    "c=C()\n",
    "c.property()\n",
    "c.marriage()"
   ]
  },
  {
   "cell_type": "code",
   "execution_count": 32,
   "metadata": {},
   "outputs": [
    {
     "data": {
      "text/plain": [
       "10"
      ]
     },
     "execution_count": 32,
     "metadata": {},
     "output_type": "execute_result"
    }
   ],
   "source": [
    "#Abstract Method\n",
    "#Abstract Classes\n",
    "from abc import *\n",
    "#Abstract base class\n",
    "class Vehicle(ABC):\n",
    "    @abstractmethod\n",
    "    def get_no_wheels(self):\n",
    "        pass\n",
    "#v =vehicle()\n",
    "#v.get_no_wheels()\n",
    "\n",
    "class Bus(Vehicle):\n",
    "    def get_no_wheels(self):\n",
    "        return 10\n",
    "    \n",
    "b = Bus()\n",
    "b.get_no_wheels()\n"
   ]
  },
  {
   "cell_type": "code",
   "execution_count": 34,
   "metadata": {},
   "outputs": [
    {
     "name": "stdout",
     "output_type": "stream",
     "text": [
      "Implementation of M2\n",
      "Implementation of M1\n"
     ]
    }
   ],
   "source": [
    "class P(ABC):\n",
    "    @abstractmethod\n",
    "    def m1(self):\n",
    "        pass\n",
    "    \n",
    "    @abstractmethod\n",
    "    def m2(self):\n",
    "        pass\n",
    "    \n",
    "class C(P):\n",
    "    def m1(self):\n",
    "        print('Implementation of M1')\n",
    "        \n",
    "        \n",
    "class CC(C):\n",
    "    def m2(self):\n",
    "        print('Implementation of M2')\n",
    "        \n",
    "cc =CC()\n",
    "cc.m2()\n",
    "cc.m1()\n",
    "\n",
    "\n",
    "        "
   ]
  },
  {
   "cell_type": "code",
   "execution_count": null,
   "metadata": {},
   "outputs": [],
   "source": []
  }
 ],
 "metadata": {
  "kernelspec": {
   "display_name": "Python 3",
   "language": "python",
   "name": "python3"
  },
  "language_info": {
   "codemirror_mode": {
    "name": "ipython",
    "version": 3
   },
   "file_extension": ".py",
   "mimetype": "text/x-python",
   "name": "python",
   "nbconvert_exporter": "python",
   "pygments_lexer": "ipython3",
   "version": "3.7.4"
  }
 },
 "nbformat": 4,
 "nbformat_minor": 2
}
