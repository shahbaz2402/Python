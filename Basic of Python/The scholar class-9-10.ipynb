{
 "cells": [
  {
   "cell_type": "code",
   "execution_count": 1,
   "metadata": {},
   "outputs": [
    {
     "data": {
      "text/plain": [
       "50.0"
      ]
     },
     "execution_count": 1,
     "metadata": {},
     "output_type": "execute_result"
    }
   ],
   "source": [
    "def ctof(c):\n",
    "    f=(c*9/5)+32\n",
    "    return f\n",
    "ctof(10)\n",
    "    \n"
   ]
  },
  {
   "cell_type": "code",
   "execution_count": 9,
   "metadata": {},
   "outputs": [
    {
     "name": "stdout",
     "output_type": "stream",
     "text": [
      "50.0\n"
     ]
    }
   ],
   "source": [
    "class ctoF:\n",
    "    def __init__(self,c):\n",
    "        self.c = c\n",
    "    def ctof(self):\n",
    "        f = (self.c * 9/5) +32\n",
    "        print(f)\n",
    "\n",
    "c1 = ctoF(10)\n",
    "c1.ctof()"
   ]
  },
  {
   "cell_type": "code",
   "execution_count": 11,
   "metadata": {},
   "outputs": [
    {
     "name": "stdout",
     "output_type": "stream",
     "text": [
      "Shahbaz\n",
      "10\n",
      "15000\n",
      "Shahbaz\n",
      "10\n",
      "15000\n"
     ]
    }
   ],
   "source": [
    "class Employee:\n",
    "    def __init__(self,name,empid,salary):\n",
    "        self.name='Shahbaz'\n",
    "        self.empid=10\n",
    "        self.salary=15000\n",
    "    def talk(self):\n",
    "        print(self.name)\n",
    "        print(self.empid)\n",
    "        print(self.salary)\n",
    "\n",
    "emp1 =Employee('A',11,1500)\n",
    "emp2 =Employee('B',13,1300)\n",
    "emp1.talk()\n",
    "emp2.talk()\n",
    "    "
   ]
  },
  {
   "cell_type": "code",
   "execution_count": 16,
   "metadata": {},
   "outputs": [
    {
     "name": "stdout",
     "output_type": "stream",
     "text": [
      "120\n"
     ]
    }
   ],
   "source": [
    "class Area:\n",
    "    def __init__(self,length,breadth):\n",
    "        self.len=length\n",
    "        self.bre=breadth\n",
    "        \n",
    "    def area_rec(self):\n",
    "        print(self.len*self.bre)\n",
    "        \n",
    "a= Area(10,12)\n",
    "a.area_rec()"
   ]
  },
  {
   "cell_type": "code",
   "execution_count": 17,
   "metadata": {},
   "outputs": [
    {
     "name": "stdout",
     "output_type": "stream",
     "text": [
      "800\n"
     ]
    }
   ],
   "source": [
    "class Area:\n",
    "    def __init__(self,length,breadth):\n",
    "        self.len=20\n",
    "        self.bre=40\n",
    "        \n",
    "    def area_rec(self):\n",
    "        print(self.len*self.bre)\n",
    "        \n",
    "a= Area(10,12)\n",
    "a.area_rec()"
   ]
  },
  {
   "cell_type": "code",
   "execution_count": 21,
   "metadata": {},
   "outputs": [
    {
     "name": "stdout",
     "output_type": "stream",
     "text": [
      "120\n",
      "40\n"
     ]
    }
   ],
   "source": [
    "class Area:\n",
    "    def __init__(self,length,breadth):\n",
    "        self.len=length\n",
    "        self.bre=breadth\n",
    "        \n",
    "    def area_rec(self):\n",
    "        print(self.len*self.bre)\n",
    "        \n",
    "a= Area(10,12)\n",
    "a.area_rec()\n",
    "\n",
    "a1= Area(2,20)\n",
    "a1.area_rec()"
   ]
  },
  {
   "cell_type": "code",
   "execution_count": 22,
   "metadata": {},
   "outputs": [
    {
     "name": "stdout",
     "output_type": "stream",
     "text": [
      "<class 'list'>\n"
     ]
    }
   ],
   "source": [
    "list1 =[1,2,3,4,5]\n",
    "list1.append(10)\n",
    "#append(10)\n",
    "print(type(list1))"
   ]
  },
  {
   "cell_type": "code",
   "execution_count": 23,
   "metadata": {},
   "outputs": [],
   "source": [
    "#__init__\n",
    "     #constructor- it is a special method in python\n",
    "    #The name of the constructor__init__\n",
    "    #constructor executed automaticaly when we are creating an object\n",
    "    #constructor will execute only one per object.\n",
    "    #construtor should take atleast one argument i.e.. self"
   ]
  },
  {
   "cell_type": "code",
   "execution_count": 25,
   "metadata": {},
   "outputs": [
    {
     "name": "stdout",
     "output_type": "stream",
     "text": [
      "800\n",
      "800\n"
     ]
    }
   ],
   "source": [
    "class Area:\n",
    "    def __init__(self):\n",
    "        self.len=40\n",
    "        self.bre=20\n",
    "        \n",
    "    def area_rec(self):\n",
    "        print(self.len*self.bre)\n",
    "        \n",
    "a= Area()\n",
    "a.area_rec()\n",
    "\n",
    "a1= Area()\n",
    "a1.area_rec()\n",
    "\n",
    "#self- python provided implicit default variable which always pointing to current object.\n",
    "#by using self we can access variable, methods of corresponding object.\n",
    "#in constractor self should be the first argument\n",
    "#####self is the 1st argument in the instance method as well"
   ]
  },
  {
   "cell_type": "code",
   "execution_count": 26,
   "metadata": {},
   "outputs": [
    {
     "name": "stdout",
     "output_type": "stream",
     "text": [
      "800\n",
      "800\n"
     ]
    }
   ],
   "source": [
    "class Area:\n",
    "    def __init__(self):\n",
    "        self.len=40\n",
    "        self.bre=20\n",
    "        \n",
    "    def area_rec(self):\n",
    "        print(self.len*self.bre)\n",
    "        \n",
    "a= Area()\n",
    "a.area_rec()\n",
    "\n",
    "a1= Area()\n",
    "a1.area_rec()"
   ]
  },
  {
   "cell_type": "code",
   "execution_count": 46,
   "metadata": {},
   "outputs": [
    {
     "name": "stdout",
     "output_type": "stream",
     "text": [
      "AA\n",
      "RE\n",
      "ER\n",
      "10\n",
      "RE\n",
      "WE\n",
      "RE\n",
      "5\n"
     ]
    }
   ],
   "source": [
    "class Movie:\n",
    "    def __init__(self,name, hero, heroine, rating):\n",
    "        self.name = name\n",
    "        self.hero = hero\n",
    "        self.heroine = heroine\n",
    "        self.rating = rating\n",
    "        #instance\n",
    "    def info(self):\n",
    "        print(self.name)\n",
    "        print(self.hero)\n",
    "        print(self.heroine)\n",
    "        print(self.rating)\n",
    "        \n",
    "m1 = Movie('AA', 'RE','ER',10)\n",
    "m2 = Movie('RE', 'WE','RE',5)\n",
    "m1.info()\n",
    "m2.info()\n",
    "    \n",
    "\n",
    "\n",
    "    "
   ]
  },
  {
   "cell_type": "code",
   "execution_count": 44,
   "metadata": {},
   "outputs": [
    {
     "name": "stdout",
     "output_type": "stream",
     "text": [
      "AA\n",
      "RE\n",
      "ER\n",
      "10\n",
      "\n",
      "RE\n",
      "WE\n",
      "RE\n",
      "5\n",
      "\n",
      "TE\n",
      "GE\n",
      "UE\n",
      "7\n",
      "\n"
     ]
    }
   ],
   "source": [
    "class Movie:\n",
    "    def __init__(self,name, hero, heroine, rating):\n",
    "        self.name = name\n",
    "        self.hero = hero\n",
    "        self.heroine = heroine\n",
    "        self.rating = rating\n",
    "        #instance\n",
    "    def info(self):\n",
    "        print(self.name)\n",
    "        print(self.hero)\n",
    "        print(self.heroine)\n",
    "        print(self.rating)\n",
    "        \n",
    "mov  = [Movie('AA', 'RE','ER',10), Movie('RE', 'WE','RE',5), Movie('TE', 'GE','UE',7)]\n",
    "for m in mov:\n",
    "    m.info()\n",
    "    print()\n",
    "        "
   ]
  },
  {
   "cell_type": "code",
   "execution_count": 40,
   "metadata": {},
   "outputs": [
    {
     "name": "stdout",
     "output_type": "stream",
     "text": [
      "1\n",
      "2\n",
      "3\n",
      "4\n",
      "5\n"
     ]
    }
   ],
   "source": [
    "list1 = [1,2,3,4,5]\n",
    "for i in list1:\n",
    "    print(i)"
   ]
  },
  {
   "cell_type": "code",
   "execution_count": 47,
   "metadata": {},
   "outputs": [],
   "source": [
    "#Different types of Variables\n",
    "    #instance -(object level)\n",
    "    #static variable -(class level)\n",
    "    #local variable  -(Method level)"
   ]
  },
  {
   "cell_type": "code",
   "execution_count": 48,
   "metadata": {},
   "outputs": [],
   "source": [
    "#instance variable:-\n",
    "   #if the value of the variable is varying from object to object\n",
    "   #A seperate copy of the instance variable is created for every object.\n",
    "#where can  we declare the instance variable.\n",
    "    #1. inside the constructor using self\n",
    "    #2. inside instance method using self\n",
    "    #3.  outside  the class by using object ref"
   ]
  },
  {
   "cell_type": "code",
   "execution_count": 50,
   "metadata": {},
   "outputs": [],
   "source": [
    "#1. constructor\n",
    "class Employee:\n",
    "    def __init__(self , ename):\n",
    "        self.ename = ename\n",
    "        self.salary = 10000"
   ]
  },
  {
   "cell_type": "code",
   "execution_count": 51,
   "metadata": {},
   "outputs": [
    {
     "name": "stdout",
     "output_type": "stream",
     "text": [
      "{'b': 20}\n",
      "{'b': 20, 'c': 30}\n"
     ]
    }
   ],
   "source": [
    "class Employee:\n",
    "    def __init__(self):\n",
    "        pass\n",
    "    def m1(self):\n",
    "        self.b =20\n",
    "        \n",
    "emp1 = Employee()\n",
    "emp1.m1()\n",
    "print(emp1.__dict__)\n",
    "emp1.c = 30\n",
    "print(emp1.__dict__)"
   ]
  },
  {
   "cell_type": "code",
   "execution_count": 54,
   "metadata": {},
   "outputs": [
    {
     "name": "stdout",
     "output_type": "stream",
     "text": [
      "10\n",
      "20\n"
     ]
    }
   ],
   "source": [
    "#How to access the instance variables\n",
    "class Employee:\n",
    "    def __init__(self):\n",
    "        self.a=10\n",
    "        self.b=20\n",
    "    def m1(self):\n",
    "        print(self.a)\n",
    "        print(self.b)\n",
    "\n",
    "emp1= Employee()\n",
    "emp1.m1()"
   ]
  },
  {
   "cell_type": "code",
   "execution_count": 65,
   "metadata": {},
   "outputs": [
    {
     "name": "stdout",
     "output_type": "stream",
     "text": [
      "10\n",
      "20\n",
      "R\n"
     ]
    }
   ],
   "source": [
    "class Employee:\n",
    "    def __init__(self,name):\n",
    "        self.name = name\n",
    "        self.a=10\n",
    "        self.b=20\n",
    "    def m1(self):\n",
    "        print(self.a)\n",
    "        print(self.b)\n",
    "        print(self.name)\n",
    "\n",
    "emp1= Employee('R')\n",
    "emp1.m1()\n",
    "emp2= Employee('T')"
   ]
  },
  {
   "cell_type": "code",
   "execution_count": 57,
   "metadata": {},
   "outputs": [
    {
     "data": {
      "text/plain": [
       "10"
      ]
     },
     "execution_count": 57,
     "metadata": {},
     "output_type": "execute_result"
    }
   ],
   "source": [
    "#outside the class using object refrence\n",
    "emp1.a"
   ]
  },
  {
   "cell_type": "code",
   "execution_count": 58,
   "metadata": {},
   "outputs": [
    {
     "data": {
      "text/plain": [
       "20"
      ]
     },
     "execution_count": 58,
     "metadata": {},
     "output_type": "execute_result"
    }
   ],
   "source": [
    "emp1.b"
   ]
  },
  {
   "cell_type": "code",
   "execution_count": 63,
   "metadata": {},
   "outputs": [
    {
     "data": {
      "text/plain": [
       "'R'"
      ]
     },
     "execution_count": 63,
     "metadata": {},
     "output_type": "execute_result"
    }
   ],
   "source": [
    "emp1.name\n"
   ]
  },
  {
   "cell_type": "code",
   "execution_count": 66,
   "metadata": {},
   "outputs": [
    {
     "data": {
      "text/plain": [
       "'T'"
      ]
     },
     "execution_count": 66,
     "metadata": {},
     "output_type": "execute_result"
    }
   ],
   "source": [
    "emp2.name"
   ]
  },
  {
   "cell_type": "code",
   "execution_count": 67,
   "metadata": {},
   "outputs": [
    {
     "name": "stdout",
     "output_type": "stream",
     "text": [
      "20\n",
      "R\n"
     ]
    }
   ],
   "source": [
    "class Employee:\n",
    "    def __init__(self,name):\n",
    "        self.name = name\n",
    "        self.a=10\n",
    "        self.b=20\n",
    "    def m1(self):\n",
    "        del self.a\n",
    "        print(self.b)\n",
    "        print(self.name)\n",
    "\n",
    "emp1= Employee('R')\n",
    "emp1.m1()\n",
    "emp2= Employee('T')"
   ]
  },
  {
   "cell_type": "code",
   "execution_count": 68,
   "metadata": {},
   "outputs": [
    {
     "name": "stdout",
     "output_type": "stream",
     "text": [
      "20\n",
      "R\n",
      "20\n"
     ]
    },
    {
     "ename": "AttributeError",
     "evalue": "'Employee' object has no attribute 'name'",
     "output_type": "error",
     "traceback": [
      "\u001b[1;31m---------------------------------------------------------------------------\u001b[0m",
      "\u001b[1;31mAttributeError\u001b[0m                            Traceback (most recent call last)",
      "\u001b[1;32m<ipython-input-68-c5fe642393c2>\u001b[0m in \u001b[0;36m<module>\u001b[1;34m\u001b[0m\n\u001b[0;32m     13\u001b[0m \u001b[0memp2\u001b[0m\u001b[1;33m=\u001b[0m \u001b[0mEmployee\u001b[0m\u001b[1;33m(\u001b[0m\u001b[1;34m'T'\u001b[0m\u001b[1;33m)\u001b[0m\u001b[1;33m\u001b[0m\u001b[1;33m\u001b[0m\u001b[0m\n\u001b[0;32m     14\u001b[0m \u001b[1;32mdel\u001b[0m \u001b[0memp2\u001b[0m\u001b[1;33m.\u001b[0m\u001b[0mname\u001b[0m\u001b[1;33m\u001b[0m\u001b[1;33m\u001b[0m\u001b[0m\n\u001b[1;32m---> 15\u001b[1;33m \u001b[0memp2\u001b[0m\u001b[1;33m.\u001b[0m\u001b[0mm1\u001b[0m\u001b[1;33m(\u001b[0m\u001b[1;33m)\u001b[0m\u001b[1;33m\u001b[0m\u001b[1;33m\u001b[0m\u001b[0m\n\u001b[0m",
      "\u001b[1;32m<ipython-input-68-c5fe642393c2>\u001b[0m in \u001b[0;36mm1\u001b[1;34m(self)\u001b[0m\n\u001b[0;32m      7\u001b[0m         \u001b[1;32mdel\u001b[0m \u001b[0mself\u001b[0m\u001b[1;33m.\u001b[0m\u001b[0ma\u001b[0m\u001b[1;33m\u001b[0m\u001b[1;33m\u001b[0m\u001b[0m\n\u001b[0;32m      8\u001b[0m         \u001b[0mprint\u001b[0m\u001b[1;33m(\u001b[0m\u001b[0mself\u001b[0m\u001b[1;33m.\u001b[0m\u001b[0mb\u001b[0m\u001b[1;33m)\u001b[0m\u001b[1;33m\u001b[0m\u001b[1;33m\u001b[0m\u001b[0m\n\u001b[1;32m----> 9\u001b[1;33m         \u001b[0mprint\u001b[0m\u001b[1;33m(\u001b[0m\u001b[0mself\u001b[0m\u001b[1;33m.\u001b[0m\u001b[0mname\u001b[0m\u001b[1;33m)\u001b[0m\u001b[1;33m\u001b[0m\u001b[1;33m\u001b[0m\u001b[0m\n\u001b[0m\u001b[0;32m     10\u001b[0m \u001b[1;33m\u001b[0m\u001b[0m\n\u001b[0;32m     11\u001b[0m \u001b[0memp1\u001b[0m\u001b[1;33m=\u001b[0m \u001b[0mEmployee\u001b[0m\u001b[1;33m(\u001b[0m\u001b[1;34m'R'\u001b[0m\u001b[1;33m)\u001b[0m\u001b[1;33m\u001b[0m\u001b[1;33m\u001b[0m\u001b[0m\n",
      "\u001b[1;31mAttributeError\u001b[0m: 'Employee' object has no attribute 'name'"
     ]
    }
   ],
   "source": [
    "class Employee:\n",
    "    def __init__(self,name):\n",
    "        self.name = name\n",
    "        self.a=10\n",
    "        self.b=20\n",
    "    def m1(self):\n",
    "        del self.a\n",
    "        print(self.b)\n",
    "        print(self.name)\n",
    "\n",
    "emp1= Employee('R')\n",
    "emp1.m1()\n",
    "emp2= Employee('T')\n",
    "del emp2.name\n",
    "emp2.m1()"
   ]
  },
  {
   "cell_type": "code",
   "execution_count": 69,
   "metadata": {},
   "outputs": [],
   "source": [
    "#Static Variable\n",
    "  #We are not require to maintain seperate copy of a variable-object will share the same copy.\n",
    "  #one copy of static variable created at the class level.\n",
    "#How to declare the static variable.\n",
    "    #1  Directly create inside the class,self is not required\n",
    "    #2. inside the constructor using class name\n",
    "    #3. inside instance method using class name\n",
    "    #4. From outside the class"
   ]
  },
  {
   "cell_type": "code",
   "execution_count": 73,
   "metadata": {},
   "outputs": [
    {
     "data": {
      "text/plain": [
       "mappingproxy({'__module__': '__main__',\n",
       "              'a': 10,\n",
       "              '__init__': <function __main__.Test.__init__(self)>,\n",
       "              'm1': <function __main__.Test.m1(self)>,\n",
       "              '__dict__': <attribute '__dict__' of 'Test' objects>,\n",
       "              '__weakref__': <attribute '__weakref__' of 'Test' objects>,\n",
       "              '__doc__': None,\n",
       "              'b': 20,\n",
       "              'c': 30})"
      ]
     },
     "execution_count": 73,
     "metadata": {},
     "output_type": "execute_result"
    }
   ],
   "source": [
    "class Test:\n",
    "    a = 10\n",
    "    \n",
    "    def __init__(self):\n",
    "        Test.b = 20\n",
    "    \n",
    "    def m1(self):\n",
    "        Test.c =30\n",
    "        \n",
    "t=Test()\n",
    "Test.__dict__\n",
    "t.m1()\n",
    "Test.__dict__"
   ]
  },
  {
   "cell_type": "code",
   "execution_count": 75,
   "metadata": {},
   "outputs": [
    {
     "data": {
      "text/plain": [
       "888"
      ]
     },
     "execution_count": 75,
     "metadata": {},
     "output_type": "execute_result"
    }
   ],
   "source": [
    "class Test:\n",
    "    a = 777\n",
    "    def __init__(self):\n",
    "        self.a = 888\n",
    "t = Test()\n",
    "\n",
    "Test.__dict__\n",
    "t.__dict__\n",
    "\n",
    "Test.a\n",
    "t.a"
   ]
  },
  {
   "cell_type": "code",
   "execution_count": 76,
   "metadata": {},
   "outputs": [],
   "source": [
    "#how to access static variable\n",
    "   #1 inside the constructor\n",
    "   #2 inside the instance method\n",
    "   #3 outside the class"
   ]
  },
  {
   "cell_type": "code",
   "execution_count": 77,
   "metadata": {},
   "outputs": [
    {
     "name": "stdout",
     "output_type": "stream",
     "text": [
      "10\n"
     ]
    },
    {
     "data": {
      "text/plain": [
       "10"
      ]
     },
     "execution_count": 77,
     "metadata": {},
     "output_type": "execute_result"
    }
   ],
   "source": [
    "class Test:\n",
    "    a = 10\n",
    "    \n",
    "    def __init__(self):\n",
    "        print(Test.a)\n",
    "    \n",
    "    def m1(self):\n",
    "        print(Test.a)\n",
    "\n",
    "t = Test()\n",
    "Test.a"
   ]
  },
  {
   "cell_type": "code",
   "execution_count": 78,
   "metadata": {},
   "outputs": [],
   "source": [
    "#where can I modify the static variable\n",
    "   #by using the class name(inside or outside the class)"
   ]
  },
  {
   "cell_type": "code",
   "execution_count": 79,
   "metadata": {},
   "outputs": [
    {
     "data": {
      "text/plain": [
       "mappingproxy({'__module__': '__main__',\n",
       "              'a': 2000,\n",
       "              '__init__': <function __main__.Test.__init__(self)>,\n",
       "              'm1': <function __main__.Test.m1(self)>,\n",
       "              '__dict__': <attribute '__dict__' of 'Test' objects>,\n",
       "              '__weakref__': <attribute '__weakref__' of 'Test' objects>,\n",
       "              '__doc__': None})"
      ]
     },
     "execution_count": 79,
     "metadata": {},
     "output_type": "execute_result"
    }
   ],
   "source": [
    "class Test:\n",
    "    a = 10\n",
    "    def __init__(self):\n",
    "        Test.a = 888\n",
    "    \n",
    "    def m1(self):\n",
    "        Test.a = 1000\n",
    "\n",
    "Test.__dict__\n",
    "t = Test()\n",
    "Test.__dict__\n",
    "t.m1()\n",
    "Test.__dict__\n",
    "Test.a = 2000\n",
    "Test.__dict__"
   ]
  },
  {
   "cell_type": "code",
   "execution_count": 95,
   "metadata": {},
   "outputs": [
    {
     "name": "stdout",
     "output_type": "stream",
     "text": [
      "888 20\n",
      "10 1000\n"
     ]
    }
   ],
   "source": [
    "class Test:\n",
    "    x = 10\n",
    "    def __init__(self):\n",
    "        self.y = 20\n",
    "        \n",
    "t1 = Test()\n",
    "t2 = Test()\n",
    "\n",
    "t1.x = 888\n",
    "t2.y = 1000\n",
    "\n",
    "print(t1.x,t1.y)\n",
    "print(t2.x,t2.y)\n"
   ]
  },
  {
   "cell_type": "code",
   "execution_count": 108,
   "metadata": {},
   "outputs": [
    {
     "ename": "SyntaxError",
     "evalue": "invalid syntax (<ipython-input-108-cbbcf3f78b6f>, line 2)",
     "output_type": "error",
     "traceback": [
      "\u001b[1;36m  File \u001b[1;32m\"<ipython-input-108-cbbcf3f78b6f>\"\u001b[1;36m, line \u001b[1;32m2\u001b[0m\n\u001b[1;33m    [1::3]\u001b[0m\n\u001b[1;37m      ^\u001b[0m\n\u001b[1;31mSyntaxError\u001b[0m\u001b[1;31m:\u001b[0m invalid syntax\n"
     ]
    }
   ],
   "source": [
    "a,b,c =(11,12,13,14,15,16,17,18,19)\n",
    "[1::3]"
   ]
  },
  {
   "cell_type": "code",
   "execution_count": 94,
   "metadata": {},
   "outputs": [],
   "source": [
    "#Types of Methods\n",
    "  #1. Instance Method\n",
    "    \n",
    "  # def m1(self):"
   ]
  },
  {
   "cell_type": "code",
   "execution_count": 111,
   "metadata": {},
   "outputs": [
    {
     "data": {
      "text/plain": [
       "{'name': 'shahbaz', 'marks': 25}"
      ]
     },
     "execution_count": 111,
     "metadata": {},
     "output_type": "execute_result"
    }
   ],
   "source": [
    "class student:\n",
    "    def __init__(self,name,marks):\n",
    "        self.name =name\n",
    "        self.marks =marks\n",
    "        \n",
    "        \n",
    "    def display(self):\n",
    "        print('Hi',self.name)\n",
    "        print('Your marks is',self.marks)\n",
    "        self.grade()\n",
    "        \n",
    "    def garde(self):\n",
    "        if self.marks <35:\n",
    "            print('you failed the exam')\n",
    "        elif self.marks >=35 and self.marks<=60:\n",
    "            print('you got average marks')\n",
    "        else:\n",
    "            print('you got good marks')\n",
    "            \n",
    "s =student('shahbaz',25)\n",
    "s.__dict__\n",
    "            \n",
    "        \n",
    "        "
   ]
  },
  {
   "cell_type": "code",
   "execution_count": 125,
   "metadata": {},
   "outputs": [
    {
     "name": "stdout",
     "output_type": "stream",
     "text": [
      "Hi shahbaz\n",
      "Your marks is : 25\n",
      "you failed the exam\n",
      "you failed the exam\n"
     ]
    }
   ],
   "source": [
    "class student:\n",
    "    def __init__(self, name, marks):\n",
    "        self.name = name\n",
    "        self.marks = marks\n",
    "        self.dispaly()\n",
    "        \n",
    "    def display(self):\n",
    "        print('Hi',self.name)\n",
    "        print('Your marks is :',self.marks)\n",
    "        self.grade()\n",
    "        \n",
    "    def grade(self):\n",
    "        if self.marks < 35:\n",
    "            print('you failed the exam')\n",
    "        elif self.marks >=35 and self.marks<=60:\n",
    "            print('you got average marks')\n",
    "        else:\n",
    "            print('you got good marks')\n",
    "            \n",
    "s = student('shahbaz',25)\n",
    "s.__dict__\n",
    "#s.display()\n",
    "#s.grade()\n"
   ]
  },
  {
   "cell_type": "code",
   "execution_count": 131,
   "metadata": {},
   "outputs": [
    {
     "name": "stdout",
     "output_type": "stream",
     "text": [
      "The sum is: 30\n"
     ]
    },
    {
     "ename": "AttributeError",
     "evalue": "type object 'shahbazMaths' has no attribute 'Product'",
     "output_type": "error",
     "traceback": [
      "\u001b[1;31m---------------------------------------------------------------------------\u001b[0m",
      "\u001b[1;31mAttributeError\u001b[0m                            Traceback (most recent call last)",
      "\u001b[1;32m<ipython-input-131-b39af454967c>\u001b[0m in \u001b[0;36m<module>\u001b[1;34m\u001b[0m\n\u001b[0;32m     13\u001b[0m \u001b[1;33m\u001b[0m\u001b[0m\n\u001b[0;32m     14\u001b[0m \u001b[0mshahbazMaths\u001b[0m\u001b[1;33m.\u001b[0m\u001b[0madd\u001b[0m\u001b[1;33m(\u001b[0m\u001b[1;36m10\u001b[0m\u001b[1;33m,\u001b[0m\u001b[1;36m20\u001b[0m\u001b[1;33m)\u001b[0m\u001b[1;33m\u001b[0m\u001b[1;33m\u001b[0m\u001b[0m\n\u001b[1;32m---> 15\u001b[1;33m \u001b[0mshahbazMaths\u001b[0m\u001b[1;33m.\u001b[0m\u001b[0mProduct\u001b[0m\u001b[1;33m(\u001b[0m\u001b[1;36m10\u001b[0m\u001b[1;33m,\u001b[0m\u001b[1;36m20\u001b[0m\u001b[1;33m)\u001b[0m\u001b[1;33m\u001b[0m\u001b[1;33m\u001b[0m\u001b[0m\n\u001b[0m\u001b[0;32m     16\u001b[0m \u001b[0mshahbazMaths\u001b[0m\u001b[1;33m.\u001b[0m\u001b[0mAvg\u001b[0m\u001b[1;33m(\u001b[0m\u001b[1;36m10\u001b[0m\u001b[1;33m,\u001b[0m\u001b[1;36m20\u001b[0m\u001b[1;33m)\u001b[0m\u001b[1;33m\u001b[0m\u001b[1;33m\u001b[0m\u001b[0m\n",
      "\u001b[1;31mAttributeError\u001b[0m: type object 'shahbazMaths' has no attribute 'Product'"
     ]
    }
   ],
   "source": [
    "# static method\n",
    "class shahbazMaths:\n",
    "    \n",
    "    def add(x,y):\n",
    "        print('The sum is:' , x+y)\n",
    "        \n",
    "    def product(x,y):\n",
    "        print('The product is:' , x*y)\n",
    "        \n",
    "    def Avg(x,y):\n",
    "        print('The Avg is:' , (x+y)/2)\n",
    "        \n",
    "        \n",
    "shahbazMaths.add(10,20)\n",
    "shahbazMaths.Product(10,20)\n",
    "shahbazMaths.Avg(10,20)\n"
   ]
  },
  {
   "cell_type": "code",
   "execution_count": 135,
   "metadata": {},
   "outputs": [
    {
     "name": "stdout",
     "output_type": "stream",
     "text": [
      "The sum is: 30\n",
      "The product is: 200\n",
      "The avg is: 15.0\n"
     ]
    }
   ],
   "source": [
    "class shahbazMaths:\n",
    "    \n",
    "    def add(x,y):\n",
    "        print('The sum is:' , x+y)\n",
    "        \n",
    "    def product(x,y):\n",
    "        print('The product is:' , x*y)\n",
    "        \n",
    "    def avg(x,y):\n",
    "        print('The avg is:' , (x+y)/2)\n",
    "        \n",
    "        \n",
    "shahbazMaths.add(10,20)\n",
    "shahbazMaths.product(10,20)\n",
    "shahbazMaths.avg(10,20)"
   ]
  },
  {
   "cell_type": "code",
   "execution_count": 138,
   "metadata": {},
   "outputs": [
    {
     "name": "stdout",
     "output_type": "stream",
     "text": [
      "10\n",
      "Shahbaz\n",
      "5000\n",
      "10\n",
      "Shahbaz\n",
      "15000\n"
     ]
    }
   ],
   "source": [
    "class Employee:\n",
    "    def __init__(self, eno, ename, esal):\n",
    "        self.eno = eno\n",
    "        self.ename = ename\n",
    "        self.esal = esal\n",
    "        \n",
    "    def display(self):\n",
    "        print(self.eno)\n",
    "        print(self.ename)\n",
    "        print(self.esal)\n",
    "        \n",
    "class Test:\n",
    "        def modify(emp):\n",
    "            emp.esal = emp.esal +10000\n",
    "            emp.display()\n",
    "            \n",
    "            \n",
    "e = Employee(10, 'Shahbaz' ,5000)\n",
    "e.display()\n",
    "Test.modify(e)\n"
   ]
  },
  {
   "cell_type": "code",
   "execution_count": 142,
   "metadata": {},
   "outputs": [
    {
     "name": "stdout",
     "output_type": "stream",
     "text": [
      "This is the outer class\n",
      "Inner class object\n",
      "Inner class object\n",
      "This is the outer class\n",
      "Inner class object\n",
      "Inner class object\n"
     ]
    }
   ],
   "source": [
    "class Outer:\n",
    "    def __init__(self):\n",
    "        print('This is the outer class')\n",
    "        \n",
    "    class Inner:\n",
    "        def __init__(self):\n",
    "            print('Inner class object')\n",
    "        \n",
    "        def m1(self):\n",
    "            print('Inner class object')\n",
    "            \n",
    "            \n",
    "            \n",
    "o =Outer()\n",
    "i =o.Inner()\n",
    "i.m1()\n",
    "i =Outer().Inner().m1()"
   ]
  },
  {
   "cell_type": "code",
   "execution_count": 143,
   "metadata": {},
   "outputs": [
    {
     "name": "stdout",
     "output_type": "stream",
     "text": [
      "Hello Shahbaz\n",
      "Talking\n",
      "Thinking\n"
     ]
    }
   ],
   "source": [
    "class Human:\n",
    "    def __init__(self):\n",
    "        self.name = 'Shahbaz'\n",
    "        self.head = self.Head()\n",
    "        self.brain = self.head.brain()\n",
    "        \n",
    "        \n",
    "    def display(self):\n",
    "        print('Hello' ,self.name)\n",
    "        self.head.talk()\n",
    "        self.brain.think()\n",
    "        \n",
    "    class Head:\n",
    "        def talk(self):\n",
    "            print('Talking')\n",
    "            \n",
    "        class brain:\n",
    "            def think(self):\n",
    "                print('Thinking')\n",
    "                \n",
    "h =Human()\n",
    "h.display()\n",
    "    "
   ]
  },
  {
   "cell_type": "code",
   "execution_count": 144,
   "metadata": {},
   "outputs": [
    {
     "name": "stdout",
     "output_type": "stream",
     "text": [
      "Parent Class Method\n",
      "Parent class Method2\n"
     ]
    },
    {
     "data": {
      "text/plain": [
       "10"
      ]
     },
     "execution_count": 144,
     "metadata": {},
     "output_type": "execute_result"
    }
   ],
   "source": [
    "#Single Inheritance\n",
    "class P:\n",
    "    a=10\n",
    "    def m1(self):\n",
    "        print('Parent Class Method')\n",
    "        self.a =100\n",
    "        \n",
    "    def m2(self):\n",
    "        print('Parent class Method2')\n",
    "        \n",
    "class C(P):\n",
    "    pass\n",
    "\n",
    "\n",
    "c =C()\n",
    "c.m1()\n",
    "c.m2()\n",
    "C.a\n",
    "       "
   ]
  },
  {
   "cell_type": "code",
   "execution_count": 145,
   "metadata": {},
   "outputs": [
    {
     "name": "stdout",
     "output_type": "stream",
     "text": [
      " Sub class Method\n",
      "class Method\n",
      "Parent Method\n"
     ]
    }
   ],
   "source": [
    "# Multilevel Inheritance\n",
    "class P:\n",
    "    def m1(self):\n",
    "        print('Parent Method')\n",
    "       \n",
    "    \n",
    "class C(P):        \n",
    "    def m2(self):\n",
    "        print('class Method')\n",
    "        \n",
    "class CC(C):\n",
    "    def m3(self):\n",
    "        print(' Sub class Method')\n",
    "        \n",
    "\n",
    "cc =CC()\n",
    "cc.m3()\n",
    "cc.m2()\n",
    "cc.m1()\n",
    "        \n",
    "        \n",
    "        "
   ]
  },
  {
   "cell_type": "code",
   "execution_count": 148,
   "metadata": {},
   "outputs": [
    {
     "name": "stdout",
     "output_type": "stream",
     "text": [
      "Parent Method\n",
      "Child 1 Method\n",
      "Parent Method\n"
     ]
    },
    {
     "ename": "AttributeError",
     "evalue": "'C1' object has no attribute 'm3'",
     "output_type": "error",
     "traceback": [
      "\u001b[1;31m---------------------------------------------------------------------------\u001b[0m",
      "\u001b[1;31mAttributeError\u001b[0m                            Traceback (most recent call last)",
      "\u001b[1;32m<ipython-input-148-f476ec519170>\u001b[0m in \u001b[0;36m<module>\u001b[1;34m\u001b[0m\n\u001b[0;32m     16\u001b[0m \u001b[0mc1\u001b[0m\u001b[1;33m.\u001b[0m\u001b[0mm2\u001b[0m\u001b[1;33m(\u001b[0m\u001b[1;33m)\u001b[0m\u001b[1;33m\u001b[0m\u001b[1;33m\u001b[0m\u001b[0m\n\u001b[0;32m     17\u001b[0m \u001b[0mc1\u001b[0m\u001b[1;33m.\u001b[0m\u001b[0mm1\u001b[0m\u001b[1;33m(\u001b[0m\u001b[1;33m)\u001b[0m\u001b[1;33m\u001b[0m\u001b[1;33m\u001b[0m\u001b[0m\n\u001b[1;32m---> 18\u001b[1;33m \u001b[0mc1\u001b[0m\u001b[1;33m.\u001b[0m\u001b[0mm3\u001b[0m\u001b[1;33m(\u001b[0m\u001b[1;33m)\u001b[0m\u001b[1;33m\u001b[0m\u001b[1;33m\u001b[0m\u001b[0m\n\u001b[0m",
      "\u001b[1;31mAttributeError\u001b[0m: 'C1' object has no attribute 'm3'"
     ]
    }
   ],
   "source": [
    "#Hierachical Inheritance\n",
    "class P:\n",
    "    def m1(self):\n",
    "        print('Parent Method')\n",
    "class C1(P):        \n",
    "    def m2(self):\n",
    "        print('Child 1 Method')\n",
    "        \n",
    "class C2(C):\n",
    "    def m3(self):\n",
    "        print(' Child 2 Method')\n",
    "        \n",
    "c2 =C2()\n",
    "c2.m1()\n",
    "c1 =C1()\n",
    "c1.m2()\n",
    "c1.m1()\n",
    "c1.m3()"
   ]
  },
  {
   "cell_type": "code",
   "execution_count": 153,
   "metadata": {},
   "outputs": [
    {
     "data": {
      "text/plain": [
       "['__abs__',\n",
       " '__add__',\n",
       " '__and__',\n",
       " '__bool__',\n",
       " '__ceil__',\n",
       " '__class__',\n",
       " '__delattr__',\n",
       " '__dir__',\n",
       " '__divmod__',\n",
       " '__doc__',\n",
       " '__eq__',\n",
       " '__float__',\n",
       " '__floor__',\n",
       " '__floordiv__',\n",
       " '__format__',\n",
       " '__ge__',\n",
       " '__getattribute__',\n",
       " '__getnewargs__',\n",
       " '__gt__',\n",
       " '__hash__',\n",
       " '__index__',\n",
       " '__init__',\n",
       " '__init_subclass__',\n",
       " '__int__',\n",
       " '__invert__',\n",
       " '__le__',\n",
       " '__lshift__',\n",
       " '__lt__',\n",
       " '__mod__',\n",
       " '__mul__',\n",
       " '__ne__',\n",
       " '__neg__',\n",
       " '__new__',\n",
       " '__or__',\n",
       " '__pos__',\n",
       " '__pow__',\n",
       " '__radd__',\n",
       " '__rand__',\n",
       " '__rdivmod__',\n",
       " '__reduce__',\n",
       " '__reduce_ex__',\n",
       " '__repr__',\n",
       " '__rfloordiv__',\n",
       " '__rlshift__',\n",
       " '__rmod__',\n",
       " '__rmul__',\n",
       " '__ror__',\n",
       " '__round__',\n",
       " '__rpow__',\n",
       " '__rrshift__',\n",
       " '__rshift__',\n",
       " '__rsub__',\n",
       " '__rtruediv__',\n",
       " '__rxor__',\n",
       " '__setattr__',\n",
       " '__sizeof__',\n",
       " '__str__',\n",
       " '__sub__',\n",
       " '__subclasshook__',\n",
       " '__truediv__',\n",
       " '__trunc__',\n",
       " '__xor__',\n",
       " 'bit_length',\n",
       " 'conjugate',\n",
       " 'denominator',\n",
       " 'from_bytes',\n",
       " 'imag',\n",
       " 'numerator',\n",
       " 'real',\n",
       " 'to_bytes']"
      ]
     },
     "execution_count": 153,
     "metadata": {},
     "output_type": "execute_result"
    }
   ],
   "source": []
  },
  {
   "cell_type": "code",
   "execution_count": 161,
   "metadata": {},
   "outputs": [
    {
     "data": {
      "text/plain": [
       "750.0"
      ]
     },
     "execution_count": 161,
     "metadata": {},
     "output_type": "execute_result"
    }
   ],
   "source": [
    "class Polygon:\n",
    "    def __init__(self, width, height):\n",
    "        self.width = width\n",
    "        self.height = height\n",
    "            \n",
    "class Square(Polygon):\n",
    "    def area(self):\n",
    "        return self.width * self.height\n",
    "    \n",
    "class Triangle(Polygon):\n",
    "    def area(self):\n",
    "        return self.width * self.height * 0.5\n",
    "    \n",
    "s =Square(15,100)\n",
    "s.area()\n",
    "t = Triangle(15,100)\n",
    "t.area()"
   ]
  },
  {
   "cell_type": "code",
   "execution_count": 167,
   "metadata": {},
   "outputs": [
    {
     "name": "stdout",
     "output_type": "stream",
     "text": [
      "100000\n",
      "90000\n",
      "85000.0\n"
     ]
    }
   ],
   "source": [
    "class Bank:\n",
    "    sbi =10\n",
    "    hdfc = 9\n",
    "    pnb = 8.5\n",
    "    \n",
    "class sbi(Bank):\n",
    "    def __init__(self ,account_balance):\n",
    "        self.account_balance = account_balance\n",
    "        \n",
    "    def calint(self):\n",
    "        new_ac_bal = self.account_balance * Bank.sbi\n",
    "        print(new_ac_bal)\n",
    "        \n",
    "        \n",
    "class Hdfc(Bank):\n",
    "    def __init__(self ,account_balance):\n",
    "        self.account_balance = account_balance\n",
    "        \n",
    "    def calint(self):\n",
    "        new_ac_bal = self.account_balance * Bank.hdfc\n",
    "        print(new_ac_bal)\n",
    "        \n",
    "class pnb(Bank):\n",
    "    def __init__(self ,account_balance):\n",
    "        self.account_balance = account_balance\n",
    "        \n",
    "    def calint(self):\n",
    "        new_ac_bal = self.account_balance * Bank.pnb\n",
    "        print(new_ac_bal)\n",
    "        \n",
    "b = Bank()\n",
    "b.__dict__\n",
    "bnk = sbi(10000)\n",
    "bnk.calint()\n",
    "\n",
    "bnk1 = Hdfc(10000)\n",
    "bnk1.calint()\n",
    "\n",
    "\n",
    "bnk2 = pnb(10000)\n",
    "bnk2.calint()"
   ]
  },
  {
   "cell_type": "code",
   "execution_count": null,
   "metadata": {},
   "outputs": [],
   "source": []
  }
 ],
 "metadata": {
  "kernelspec": {
   "display_name": "Python 3",
   "language": "python",
   "name": "python3"
  },
  "language_info": {
   "codemirror_mode": {
    "name": "ipython",
    "version": 3
   },
   "file_extension": ".py",
   "mimetype": "text/x-python",
   "name": "python",
   "nbconvert_exporter": "python",
   "pygments_lexer": "ipython3",
   "version": "3.7.4"
  }
 },
 "nbformat": 4,
 "nbformat_minor": 2
}
