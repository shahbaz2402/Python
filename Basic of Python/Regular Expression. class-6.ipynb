{
 "cells": [
  {
   "cell_type": "code",
   "execution_count": 1,
   "metadata": {},
   "outputs": [
    {
     "name": "stdout",
     "output_type": "stream",
     "text": [
      "Enter the string*&&&\n",
      "No space there is special character\n"
     ]
    }
   ],
   "source": [
    "s = input('Enter the string')\n",
    "if s.isalnum():\n",
    "    print('it is alpha numeric string')\n",
    "    if s.isalpha():\n",
    "        print('it is alphabet string')\n",
    "        if s.islowers():\n",
    "            print('it is Lower string')\n",
    "        else:\n",
    "            print('it is upper string')\n",
    "    else:\n",
    "        print('it is a digit')\n",
    "elif s.isspace():\n",
    "    print('it is a space')\n",
    "else:\n",
    "    print('No space there is special character')\n",
    "           \n",
    "            "
   ]
  },
  {
   "cell_type": "code",
   "execution_count": 3,
   "metadata": {},
   "outputs": [
    {
     "data": {
      "text/plain": [
       "'luhaR'"
      ]
     },
     "execution_count": 3,
     "metadata": {},
     "output_type": "execute_result"
    }
   ],
   "source": [
    "s='Rahul'\n",
    "s[::-1]"
   ]
  },
  {
   "cell_type": "code",
   "execution_count": 4,
   "metadata": {},
   "outputs": [
    {
     "name": "stdout",
     "output_type": "stream",
     "text": [
      "luhaR"
     ]
    }
   ],
   "source": [
    "reversed(s)\n",
    "for x in reversed(s):\n",
    "    print(x,end='')"
   ]
  },
  {
   "cell_type": "code",
   "execution_count": 5,
   "metadata": {},
   "outputs": [
    {
     "name": "stdout",
     "output_type": "stream",
     "text": [
      "True\n",
      "True\n",
      "False\n",
      "False\n",
      "False\n",
      "False\n",
      "True\n"
     ]
    }
   ],
   "source": [
    "print('Rahul'.isalnum())\n",
    "print('Rahul'.isalpha())\n",
    "print('Rahul'.isdigit())\n",
    "print('Rahul'.isupper())\n",
    "print('Rahul'.islower())\n",
    "print('Rahul'.isspace())\n",
    "print('Rahul'.istitle())"
   ]
  },
  {
   "cell_type": "code",
   "execution_count": 6,
   "metadata": {},
   "outputs": [],
   "source": [
    "#Regular Expression\n",
    "#-------------------\n",
    "#Pattern matching\n",
    "# phone no validation\n",
    "#email address validation\n"
   ]
  },
  {
   "cell_type": "code",
   "execution_count": 7,
   "metadata": {},
   "outputs": [],
   "source": [
    "import re\n",
    "p=re.compile('Python')\n",
    "m=p.finditer('learning Python is very easy')"
   ]
  },
  {
   "cell_type": "code",
   "execution_count": 8,
   "metadata": {},
   "outputs": [
    {
     "data": {
      "text/plain": [
       "<callable_iterator at 0x768f9b8708>"
      ]
     },
     "execution_count": 8,
     "metadata": {},
     "output_type": "execute_result"
    }
   ],
   "source": [
    "m"
   ]
  },
  {
   "cell_type": "code",
   "execution_count": 9,
   "metadata": {},
   "outputs": [
    {
     "data": {
      "text/plain": [
       "callable_iterator"
      ]
     },
     "execution_count": 9,
     "metadata": {},
     "output_type": "execute_result"
    }
   ],
   "source": [
    "type(m)"
   ]
  },
  {
   "cell_type": "code",
   "execution_count": 10,
   "metadata": {},
   "outputs": [
    {
     "name": "stdout",
     "output_type": "stream",
     "text": [
      "0\n",
      "2\n",
      "4\n",
      "8\n",
      "10\n",
      "12\n",
      "20\n",
      "22\n",
      "24\n",
      "26\n",
      "28\n"
     ]
    }
   ],
   "source": [
    "import re\n",
    "p=re.compile('cd')\n",
    "m=p.finditer('cdcdcdcccdcdcdcccccccdcdcdcdcdc')\n",
    "m\n",
    "for i in m:\n",
    "    print(i.start())"
   ]
  },
  {
   "cell_type": "code",
   "execution_count": 11,
   "metadata": {},
   "outputs": [
    {
     "name": "stdout",
     "output_type": "stream",
     "text": [
      "0 2\n",
      "2 4\n",
      "4 6\n",
      "8 10\n",
      "10 12\n",
      "12 14\n",
      "20 22\n",
      "22 24\n",
      "24 26\n",
      "26 28\n",
      "28 30\n"
     ]
    }
   ],
   "source": [
    "import re\n",
    "p=re.compile('cd')\n",
    "m=p.finditer('cdcdcdcccdcdcdcccccccdcdcdcdcdc')\n",
    "m\n",
    "for i in m:\n",
    "    print(i.start(),i.end())"
   ]
  },
  {
   "cell_type": "code",
   "execution_count": 12,
   "metadata": {},
   "outputs": [
    {
     "data": {
      "text/plain": [
       "'a7b@k9z'"
      ]
     },
     "execution_count": 12,
     "metadata": {},
     "output_type": "execute_result"
    }
   ],
   "source": [
    "'acx'\n",
    "'a7b@k9z'"
   ]
  },
  {
   "cell_type": "code",
   "execution_count": 13,
   "metadata": {},
   "outputs": [
    {
     "name": "stdout",
     "output_type": "stream",
     "text": [
      "0 ----- a\n",
      "4 ----- x\n",
      "7 ----- a\n",
      "8 ----- a\n",
      "9 ----- a\n",
      "10 ----- a\n"
     ]
    }
   ],
   "source": [
    "import re\n",
    "matcher =re.finditer('[acx]','a7b@xk9aaaaz')\n",
    "matcher\n",
    "for m in matcher:\n",
    "    print(m.start(),'-----',m.group())"
   ]
  },
  {
   "cell_type": "code",
   "execution_count": 14,
   "metadata": {},
   "outputs": [
    {
     "name": "stdout",
     "output_type": "stream",
     "text": [
      "1 2 ..... 7\n",
      "2 3 ..... b\n",
      "3 4 ..... @\n",
      "5 6 ..... k\n",
      "6 7 ..... 9\n",
      "11 12 ..... z\n"
     ]
    }
   ],
   "source": [
    "import re\n",
    "matcher =re.finditer('[^acx]','a7b@xk9aaaaz')\n",
    "matcher\n",
    "for m in matcher:\n",
    "    print(m.start(),m.end(), '.....',m.group())"
   ]
  },
  {
   "cell_type": "code",
   "execution_count": 15,
   "metadata": {},
   "outputs": [
    {
     "name": "stdout",
     "output_type": "stream",
     "text": [
      "0 1 ..... a\n",
      "2 3 ..... b\n",
      "4 5 ..... x\n",
      "5 6 ..... k\n",
      "7 8 ..... a\n",
      "8 9 ..... a\n",
      "9 10 ..... a\n",
      "10 11 ..... a\n",
      "11 12 ..... z\n"
     ]
    }
   ],
   "source": [
    "import re\n",
    "matcher =re.finditer('[a-z]','a7b@xk9aaaaz')\n",
    "matcher\n",
    "for m in matcher:\n",
    "    print(m.start(),m.end(), '.....',m.group())"
   ]
  },
  {
   "cell_type": "code",
   "execution_count": 16,
   "metadata": {},
   "outputs": [
    {
     "name": "stdout",
     "output_type": "stream",
     "text": [
      "1 2 ..... 7\n",
      "3 4 ..... @\n",
      "6 7 ..... 9\n"
     ]
    }
   ],
   "source": [
    "import re\n",
    "matcher =re.finditer('[^a-z]','a7b@xk9aaaaz')\n",
    "matcher\n",
    "for m in matcher:\n",
    "    print(m.start(),m.end(), '.....',m.group())\n"
   ]
  },
  {
   "cell_type": "code",
   "execution_count": 17,
   "metadata": {},
   "outputs": [],
   "source": [
    "import re\n",
    "matcher =re.finditer('[A-Z]','a7b@xk9aaaaz')\n",
    "matcher\n",
    "for m in matcher:\n",
    "    print(m.start(),m.end(), '.....',m.group())"
   ]
  },
  {
   "cell_type": "code",
   "execution_count": 18,
   "metadata": {},
   "outputs": [
    {
     "name": "stdout",
     "output_type": "stream",
     "text": [
      "1 2 ..... 7\n",
      "6 7 ..... 9\n"
     ]
    }
   ],
   "source": [
    "import re\n",
    "matcher =re.finditer('[0-9]','a7b@xk9aaaaz')\n",
    "matcher\n",
    "for m in matcher:\n",
    "    print(m.start(),m.end(), '.....',m.group())"
   ]
  },
  {
   "cell_type": "code",
   "execution_count": 19,
   "metadata": {},
   "outputs": [
    {
     "name": "stdout",
     "output_type": "stream",
     "text": [
      "0 1 ..... a\n",
      "1 2 ..... 7\n",
      "2 3 ..... b\n",
      "4 5 ..... x\n",
      "5 6 ..... k\n",
      "6 7 ..... 9\n",
      "7 8 ..... a\n",
      "8 9 ..... a\n",
      "9 10 ..... a\n",
      "10 11 ..... a\n",
      "11 12 ..... z\n"
     ]
    }
   ],
   "source": [
    "import re\n",
    "matcher =re.finditer('[a-zA-Z0-9]','a7b@xk9aaaaz')\n",
    "matcher\n",
    "for m in matcher:\n",
    "    print(m.start(),m.end(), '.....',m.group())"
   ]
  },
  {
   "cell_type": "code",
   "execution_count": 20,
   "metadata": {},
   "outputs": [
    {
     "name": "stdout",
     "output_type": "stream",
     "text": [
      "3 4 ..... @\n"
     ]
    }
   ],
   "source": [
    "import re\n",
    "matcher =re.finditer('[^a-zA-Z0-9]','a7b@xk9aaaaz')\n",
    "matcher\n",
    "for m in matcher:\n",
    "    print(m.start(),m.end(), '.....',m.group())"
   ]
  },
  {
   "cell_type": "code",
   "execution_count": 21,
   "metadata": {},
   "outputs": [
    {
     "name": "stdout",
     "output_type": "stream",
     "text": [
      "0 ........ 1 ........ a\n",
      "1 ........ 2 ........ 7\n",
      "2 ........ 3 ........ b\n",
      "4 ........ 5 ........ @\n",
      "5 ........ 6 ........ k\n",
      "6 ........ 7 ........ 9\n",
      "7 ........ 8 ........ z\n"
     ]
    }
   ],
   "source": [
    "import re\n",
    "matcher = re.finditer('\\S', 'a7b @k9z')\n",
    "for m in matcher:\n",
    "    print(m.start(), '........' , m.end(),'........',m.group())"
   ]
  },
  {
   "cell_type": "code",
   "execution_count": 22,
   "metadata": {},
   "outputs": [
    {
     "name": "stdout",
     "output_type": "stream",
     "text": [
      "1 ........ 2 ........ 7\n",
      "6 ........ 7 ........ 9\n"
     ]
    }
   ],
   "source": [
    "import re\n",
    "matcher = re.finditer('\\d', 'a7b @k9z')\n",
    "for m in matcher:\n",
    "    print(m.start(), '........' , m.end(),'........',m.group())"
   ]
  },
  {
   "cell_type": "code",
   "execution_count": 23,
   "metadata": {},
   "outputs": [
    {
     "name": "stdout",
     "output_type": "stream",
     "text": [
      "0 ........ 1 ........ a\n",
      "2 ........ 3 ........ b\n",
      "3 ........ 4 ........  \n",
      "4 ........ 5 ........ @\n",
      "5 ........ 6 ........ k\n",
      "7 ........ 8 ........ z\n"
     ]
    }
   ],
   "source": [
    "import re\n",
    "matcher = re.finditer('\\D', 'a7b @k9z')\n",
    "for m in matcher:\n",
    "    print(m.start(), '........' , m.end(),'........',m.group())"
   ]
  },
  {
   "cell_type": "code",
   "execution_count": 24,
   "metadata": {},
   "outputs": [
    {
     "name": "stdout",
     "output_type": "stream",
     "text": [
      "0 ........ 1 ........ a\n",
      "1 ........ 2 ........ 7\n",
      "2 ........ 3 ........ b\n",
      "5 ........ 6 ........ k\n",
      "6 ........ 7 ........ 9\n",
      "7 ........ 8 ........ z\n"
     ]
    }
   ],
   "source": [
    "import re\n",
    "matcher = re.finditer('\\w', 'a7b @k9z')\n",
    "for m in matcher:\n",
    "    print(m.start(), '........' , m.end(),'........',m.group())"
   ]
  },
  {
   "cell_type": "code",
   "execution_count": 25,
   "metadata": {},
   "outputs": [
    {
     "name": "stdout",
     "output_type": "stream",
     "text": [
      "3 ........ 4 ........  \n",
      "4 ........ 5 ........ @\n"
     ]
    }
   ],
   "source": [
    "import re\n",
    "matcher = re.finditer('\\W', 'a7b @k9z')\n",
    "for m in matcher:\n",
    "    print(m.start(), '........' , m.end(),'........',m.group())"
   ]
  },
  {
   "cell_type": "code",
   "execution_count": 26,
   "metadata": {},
   "outputs": [
    {
     "name": "stdout",
     "output_type": "stream",
     "text": [
      "0 ........ 1 ........ a\n",
      "1 ........ 2 ........ 7\n",
      "2 ........ 3 ........ b\n",
      "3 ........ 4 ........  \n",
      "4 ........ 5 ........ @\n",
      "5 ........ 6 ........ k\n",
      "6 ........ 7 ........ 9\n",
      "7 ........ 8 ........ z\n"
     ]
    }
   ],
   "source": [
    "import re\n",
    "matcher = re.finditer('.', 'a7b @k9z')\n",
    "for m in matcher:\n",
    "    print(m.start(), '........' , m.end(),'........',m.group())"
   ]
  },
  {
   "cell_type": "code",
   "execution_count": 27,
   "metadata": {},
   "outputs": [
    {
     "name": "stdout",
     "output_type": "stream",
     "text": [
      "0 1 ........ c\n"
     ]
    }
   ],
   "source": [
    "#Quantifiers\n",
    "import re\n",
    "matcher = re.finditer('c', 'carrot')\n",
    "for m in matcher:\n",
    "    print(m.start(), m.end(),'........',m.group())"
   ]
  },
  {
   "cell_type": "code",
   "execution_count": 28,
   "metadata": {},
   "outputs": [
    {
     "name": "stdout",
     "output_type": "stream",
     "text": [
      "7 8 ........ c\n",
      "10 14 ........ cccc\n",
      "15 22 ........ ccccccc\n"
     ]
    }
   ],
   "source": [
    "import re\n",
    "matcher = re.finditer('c+', 'Rjjhgfdcarccccrcccccccot')\n",
    "for m in matcher:\n",
    "    print(m.start(), m.end(),'........',m.group())\n",
    "# here we are getting the location of all the c's\n",
    "#at least 1 c or any number of c's"
   ]
  },
  {
   "cell_type": "code",
   "execution_count": 29,
   "metadata": {},
   "outputs": [
    {
     "name": "stdout",
     "output_type": "stream",
     "text": [
      "0 0 ........ \n",
      "1 1 ........ \n",
      "2 2 ........ \n",
      "3 3 ........ \n",
      "4 4 ........ \n",
      "5 5 ........ \n",
      "6 6 ........ \n",
      "7 8 ........ c\n",
      "8 8 ........ \n",
      "9 9 ........ \n",
      "10 14 ........ cccc\n",
      "14 14 ........ \n",
      "15 22 ........ ccccccc\n",
      "22 22 ........ \n",
      "23 23 ........ \n",
      "24 24 ........ \n"
     ]
    }
   ],
   "source": [
    "import re\n",
    "matcher = re.finditer('c*', 'Rjjhgfdcarccccrcccccccot')\n",
    "for m in matcher:\n",
    "    print(m.start(), m.end(),'........',m.group())\n",
    "# here we are getting any number of c's including 0 also"
   ]
  },
  {
   "cell_type": "code",
   "execution_count": 30,
   "metadata": {},
   "outputs": [
    {
     "name": "stdout",
     "output_type": "stream",
     "text": [
      "0 0 ........ \n",
      "1 1 ........ \n",
      "2 2 ........ \n",
      "3 3 ........ \n",
      "4 4 ........ \n",
      "5 5 ........ \n",
      "6 6 ........ \n",
      "7 8 ........ c\n",
      "8 8 ........ \n",
      "9 9 ........ \n",
      "10 11 ........ c\n",
      "11 12 ........ c\n",
      "12 13 ........ c\n",
      "13 14 ........ c\n",
      "14 14 ........ \n",
      "15 16 ........ c\n",
      "16 17 ........ c\n",
      "17 18 ........ c\n",
      "18 19 ........ c\n",
      "19 20 ........ c\n",
      "20 21 ........ c\n",
      "21 22 ........ c\n",
      "22 22 ........ \n",
      "23 23 ........ \n",
      "24 24 ........ \n"
     ]
    }
   ],
   "source": [
    "import re\n",
    "matcher = re.finditer('c?', 'Rjjhgfdcarccccrcccccccot')\n",
    "for m in matcher:\n",
    "    print(m.start(), m.end(),'........',m.group())\n",
    "# here we are getting atmost one c"
   ]
  },
  {
   "cell_type": "code",
   "execution_count": 31,
   "metadata": {},
   "outputs": [
    {
     "name": "stdout",
     "output_type": "stream",
     "text": [
      "10 13 ........ ccc\n",
      "15 18 ........ ccc\n",
      "18 21 ........ ccc\n"
     ]
    }
   ],
   "source": [
    "import re\n",
    "matcher = re.finditer('c{3}', 'Rjjhgfdcarccccrcccccccot')\n",
    "for m in matcher:\n",
    "    print(m.start(), m.end(),'........',m.group())\n",
    "# here we are getting exactly 3 number"
   ]
  },
  {
   "cell_type": "code",
   "execution_count": 32,
   "metadata": {},
   "outputs": [
    {
     "name": "stdout",
     "output_type": "stream",
     "text": [
      "6 8 ........ cc\n",
      "12 15 ........ ccc\n",
      "17 20 ........ ccc\n",
      "20 23 ........ ccc\n",
      "26 28 ........ cc\n"
     ]
    }
   ],
   "source": [
    "import re\n",
    "matcher = re.finditer('c{2,3}', 'Rjjhgfccdcarccccrcccccccotcc')\n",
    "for m in matcher:\n",
    "    print(m.start(), m.end(),'........',m.group())\n",
    "# here we are getting min of 2 and max of 3 in this example"
   ]
  },
  {
   "cell_type": "code",
   "execution_count": 33,
   "metadata": {},
   "outputs": [
    {
     "name": "stdout",
     "output_type": "stream",
     "text": [
      "0 1 ........ R\n",
      "1 2 ........ j\n",
      "2 3 ........ j\n",
      "3 4 ........ h\n",
      "4 5 ........ g\n",
      "5 6 ........ f\n",
      "8 9 ........ d\n",
      "10 11 ........ a\n",
      "11 12 ........ r\n",
      "16 17 ........ r\n",
      "24 25 ........ o\n",
      "25 26 ........ t\n"
     ]
    }
   ],
   "source": [
    "import re\n",
    "matcher = re.finditer('[^c]', 'Rjjhgfccdcarccccrcccccccotcc')\n",
    "for m in matcher:\n",
    "    print(m.start(), m.end(),'........',m.group())\n",
    "# here we are getting all except c"
   ]
  },
  {
   "cell_type": "code",
   "execution_count": 34,
   "metadata": {},
   "outputs": [],
   "source": [
    "import re\n",
    "matcher = re.finditer('d$', 'Rjjhgfccdcarccccrcccccccotcc')\n",
    "for m in matcher:\n",
    "    print(m.start(), m.end(),'........',m.group())\n"
   ]
  },
  {
   "cell_type": "code",
   "execution_count": 35,
   "metadata": {},
   "outputs": [],
   "source": [
    "#Match()- To check the given pattern at the begining of the target sting\n",
    "        #if available  then return match object else none\n",
    "#fullmatch()\n",
    "#search()\n",
    "#findall()\n",
    "#finditer()\n",
    "#sub()\n",
    "#subn()\n",
    "#split()\n",
    "#compile()\n",
    "\n"
   ]
  },
  {
   "cell_type": "code",
   "execution_count": 37,
   "metadata": {},
   "outputs": [
    {
     "name": "stdout",
     "output_type": "stream",
     "text": [
      "Enter the pattern to checkfdswwasdrhnhg\n",
      "did not match\n"
     ]
    }
   ],
   "source": [
    "import re\n",
    "s = input('Enter the pattern to check')\n",
    "m = re.match(s, 'reffdfghddfgghfdswwasdrhnhg')\n",
    "if m!=None:\n",
    "    print('match is available')\n",
    "else:\n",
    "    print('did not match')"
   ]
  },
  {
   "cell_type": "code",
   "execution_count": 40,
   "metadata": {},
   "outputs": [
    {
     "name": "stdout",
     "output_type": "stream",
     "text": [
      "Enter the pattern to checkrdrhnhgeffdfghddfgghfdswwas\n",
      "match is available\n"
     ]
    }
   ],
   "source": [
    "import re\n",
    "s = input('Enter the pattern to check')\n",
    "m = re.fullmatch(s, 'rdrhnhgeffdfghddfgghfdswwas')\n",
    "if m!=None:\n",
    "    print('match is available')\n",
    "else:\n",
    "    print('did not match')"
   ]
  },
  {
   "cell_type": "code",
   "execution_count": null,
   "metadata": {},
   "outputs": [],
   "source": []
  },
  {
   "cell_type": "code",
   "execution_count": 1,
   "metadata": {},
   "outputs": [
    {
     "name": "stdout",
     "output_type": "stream",
     "text": [
      "Enter the pattern to checkjjj\n",
      "did not Got it\n"
     ]
    }
   ],
   "source": [
    "import re\n",
    "s = input('Enter the pattern to check')\n",
    "m = re.search(s, 'reffdfghddfg')\n",
    "if m!=None:\n",
    "    print('Got it')\n",
    "else:\n",
    "    print('did not Got it')"
   ]
  },
  {
   "cell_type": "code",
   "execution_count": 3,
   "metadata": {},
   "outputs": [
    {
     "name": "stdout",
     "output_type": "stream",
     "text": [
      "Enter the pattern to checkd\n",
      "Got it 4 5\n"
     ]
    }
   ],
   "source": [
    "import re\n",
    "s = input('Enter the pattern to check')\n",
    "m = re.search(s, 'reffdfghddfg')\n",
    "if m!=None:\n",
    "    print('Got it',m.start(), m.end())\n",
    "else:\n",
    "    print('did not Got it')"
   ]
  },
  {
   "cell_type": "code",
   "execution_count": 5,
   "metadata": {},
   "outputs": [
    {
     "name": "stdout",
     "output_type": "stream",
     "text": [
      "Enter the pattern to checkf\n",
      "['f', 'f', 'f', 'f']\n"
     ]
    }
   ],
   "source": [
    "import re\n",
    "s = input('Enter the pattern to check')\n",
    "m = re.findall(s, 'reffdfghddfg')\n",
    "print(m)"
   ]
  },
  {
   "cell_type": "code",
   "execution_count": 8,
   "metadata": {},
   "outputs": [
    {
     "name": "stdout",
     "output_type": "stream",
     "text": [
      "Enter the pattern to checkpython\n",
      "0\n"
     ]
    }
   ],
   "source": [
    "import re\n",
    "s = input('Enter the pattern to check')\n",
    "m = re.findall(s, 'reffdfghddfg')\n",
    "print(len(m))"
   ]
  },
  {
   "cell_type": "code",
   "execution_count": 9,
   "metadata": {},
   "outputs": [
    {
     "name": "stdout",
     "output_type": "stream",
     "text": [
      "['6', '7', '7', '5', '4']\n"
     ]
    }
   ],
   "source": [
    "import re\n",
    "m=re.findall('[0-9]' ,'a67754bjjgdhfgfjh')\n",
    "print(m)"
   ]
  },
  {
   "cell_type": "code",
   "execution_count": 11,
   "metadata": {},
   "outputs": [
    {
     "name": "stdout",
     "output_type": "stream",
     "text": [
      "['#', ' ', '$']\n"
     ]
    }
   ],
   "source": [
    "import re\n",
    "l=re.findall('\\W', 'a7# sfdfckjghghjjkk$kl')\n",
    "print(l)"
   ]
  },
  {
   "cell_type": "code",
   "execution_count": 12,
   "metadata": {},
   "outputs": [
    {
     "name": "stdout",
     "output_type": "stream",
     "text": [
      "['a', '7', 's', 'f', 'd', 'f', 'c', 'k', 'j', 'g', 'h', 'g', 'h', 'j', 'j', 'k', 'k', 'k', 'l']\n"
     ]
    }
   ],
   "source": [
    "import re\n",
    "l=re.findall('\\w', 'a7# sfdfckjghghjjkk$kl')\n",
    "print(l)"
   ]
  },
  {
   "cell_type": "code",
   "execution_count": 13,
   "metadata": {},
   "outputs": [
    {
     "name": "stdout",
     "output_type": "stream",
     "text": [
      "['7']\n"
     ]
    }
   ],
   "source": [
    "import re\n",
    "l=re.findall('\\d', 'a7# sfdfckjghghjjkk$kl')\n",
    "print(l)"
   ]
  },
  {
   "cell_type": "code",
   "execution_count": 14,
   "metadata": {},
   "outputs": [
    {
     "name": "stdout",
     "output_type": "stream",
     "text": [
      "['a', '#', ' ', 's', 'f', 'd', 'f', 'c', 'k', 'j', 'g', 'h', 'g', 'h', 'j', 'j', 'k', 'k', '$', 'k', 'l']\n"
     ]
    }
   ],
   "source": [
    "import re\n",
    "l=re.findall('\\D', 'a7# sfdfckjghghjjkk$kl')\n",
    "print(l)"
   ]
  },
  {
   "cell_type": "code",
   "execution_count": 15,
   "metadata": {},
   "outputs": [
    {
     "name": "stdout",
     "output_type": "stream",
     "text": [
      "[' ']\n"
     ]
    }
   ],
   "source": [
    "import re\n",
    "l=re.findall('\\s', 'a7# sfdfckjghghjjkk$kl')\n",
    "print(l)"
   ]
  },
  {
   "cell_type": "code",
   "execution_count": 16,
   "metadata": {},
   "outputs": [
    {
     "name": "stdout",
     "output_type": "stream",
     "text": [
      "['a', '7', '#', 's', 'f', 'd', 'f', 'c', 'k', 'j', 'g', 'h', 'g', 'h', 'j', 'j', 'k', 'k', '$', 'k', 'l']\n"
     ]
    }
   ],
   "source": [
    "import re\n",
    "l=re.findall('\\S', 'a7# sfdfckjghghjjkk$kl')\n",
    "print(l)"
   ]
  },
  {
   "cell_type": "code",
   "execution_count": 20,
   "metadata": {},
   "outputs": [
    {
     "name": "stdout",
     "output_type": "stream",
     "text": [
      "('a## %$$fdf ##', 4)\n"
     ]
    }
   ],
   "source": [
    "import re\n",
    "s=re.subn('\\d', '#' ,'a56 %$$fdf 67')\n",
    "print(s)"
   ]
  },
  {
   "cell_type": "code",
   "execution_count": 22,
   "metadata": {},
   "outputs": [
    {
     "name": "stdout",
     "output_type": "stream",
     "text": [
      "('a## %$$fdf ##', 4)\n"
     ]
    },
    {
     "data": {
      "text/plain": [
       "4"
      ]
     },
     "execution_count": 22,
     "metadata": {},
     "output_type": "execute_result"
    }
   ],
   "source": [
    "import re\n",
    "s=re.subn('\\d', '#' ,'a56 %$$fdf 67')\n",
    "print(s)\n",
    "s[0]\n",
    "s[1]"
   ]
  },
  {
   "cell_type": "code",
   "execution_count": 26,
   "metadata": {},
   "outputs": [
    {
     "name": "stdout",
     "output_type": "stream",
     "text": [
      "['10', '20', '30', '40', '50', '60']\n"
     ]
    }
   ],
   "source": [
    "import re\n",
    "l=re.split('_','10_20_30_40_50_60')\n",
    "print(l)"
   ]
  },
  {
   "cell_type": "code",
   "execution_count": 28,
   "metadata": {},
   "outputs": [
    {
     "name": "stdout",
     "output_type": "stream",
     "text": [
      "['www', 'scholar', 'in']\n"
     ]
    }
   ],
   "source": [
    "import re\n",
    "l=re.split('\\.','www.scholar.in')\n",
    "print(l)"
   ]
  },
  {
   "cell_type": "code",
   "execution_count": 29,
   "metadata": {},
   "outputs": [
    {
     "name": "stdout",
     "output_type": "stream",
     "text": [
      "['', '', '', '', '', '', '', '', '', '', '', '', '', '', '']\n"
     ]
    }
   ],
   "source": [
    "import re\n",
    "l=re.split('.','www.scholar.in')\n",
    "print(l)"
   ]
  },
  {
   "cell_type": "code",
   "execution_count": 30,
   "metadata": {},
   "outputs": [
    {
     "name": "stdout",
     "output_type": "stream",
     "text": [
      "['www', 'scholar', 'in']\n"
     ]
    }
   ],
   "source": [
    "import re\n",
    "l=re.split('[.]','www.scholar.in')\n",
    "print(l)"
   ]
  },
  {
   "cell_type": "code",
   "execution_count": 33,
   "metadata": {},
   "outputs": [
    {
     "name": "stdout",
     "output_type": "stream",
     "text": [
      "starts with Learn\n"
     ]
    }
   ],
   "source": [
    "import re\n",
    "s = 'Learning python is very easy'\n",
    "res = re.search('^Learn', s)\n",
    "if res !=None:\n",
    "    print('starts with Learn')\n",
    "else:\n",
    "    print('Not starts with Learn')"
   ]
  },
  {
   "cell_type": "code",
   "execution_count": 34,
   "metadata": {},
   "outputs": [
    {
     "name": "stdout",
     "output_type": "stream",
     "text": [
      "Not starts with Learn\n"
     ]
    }
   ],
   "source": [
    "import re\n",
    "s = 'RLearning python is very easy'\n",
    "res = re.search('^Learn', s)\n",
    "if res !=None:\n",
    "    print('starts with Learn')\n",
    "else:\n",
    "    print('Not starts with Learn')"
   ]
  },
  {
   "cell_type": "code",
   "execution_count": 37,
   "metadata": {},
   "outputs": [
    {
     "name": "stdout",
     "output_type": "stream",
     "text": [
      "Ends with easy\n"
     ]
    }
   ],
   "source": [
    "import re\n",
    "s = 'Learning python is very easy'\n",
    "res = re.search('Easy$', s , re.IGNORECASE)\n",
    "if res !=None:\n",
    "    print('Ends with easy')\n",
    "else:\n",
    "    print('Not Ends with easy')"
   ]
  },
  {
   "cell_type": "code",
   "execution_count": 38,
   "metadata": {},
   "outputs": [],
   "source": [
    "#New programming language sython-identifier\n",
    "#1. the allowed character are\n",
    " #a. Alphabets\n",
    " #b.Digits\n",
    " #c #\n",
    "    \n",
    "#2 first charvter should be of lower case and from a to k only\n",
    "#3 the 2nd charcter should any digit divisible by 3\n",
    "#4 the lenght of identifer should be atleast 2"
   ]
  },
  {
   "cell_type": "code",
   "execution_count": 43,
   "metadata": {},
   "outputs": [
    {
     "name": "stdout",
     "output_type": "stream",
     "text": [
      "Enter the identifer of validationa3#\n",
      " it is a valid sython identifer\n"
     ]
    }
   ],
   "source": [
    "import re\n",
    "s = input('Enter the identifer of validation')\n",
    "m = re.fullmatch('[a-k][0369][a-zA-Z0-9#]*', s )\n",
    "if m!=None:\n",
    "    print(' it is a valid sython identifer')\n",
    "else:\n",
    "    print(' it is a invalid sython identifer')"
   ]
  },
  {
   "cell_type": "code",
   "execution_count": 46,
   "metadata": {},
   "outputs": [
    {
     "name": "stdout",
     "output_type": "stream",
     "text": [
      "Enter the mobile number to validation9765444555\n",
      " it is a valid Phone identifer\n"
     ]
    }
   ],
   "source": [
    "# 10 digit mobile validation\n",
    "#[6789][0-9]*\n",
    "#[6789][0-9]+\n",
    "#[6789][0-9][0-9][0-9][0-9][0-9][0-9][0-9][0-9][0-9]\n",
    "#[6789][0-9]-{9}\n",
    "#[6-9]\\d{9}\n",
    "\n",
    "import re\n",
    "s = input('Enter the mobile number to validation')\n",
    "m = re.fullmatch('[6-9]\\d{9}', s )\n",
    "if m!=None:\n",
    "    print(' it is a valid Phone identifer')\n",
    "else:\n",
    "    print(' it is a invalid Phone identifer')"
   ]
  },
  {
   "cell_type": "code",
   "execution_count": 51,
   "metadata": {},
   "outputs": [
    {
     "name": "stdout",
     "output_type": "stream",
     "text": [
      "Searching.... https://www.google.com\n",
      "<title>Google</title>\n",
      "Searching.... https://www.youtube.com\n",
      "<title>YouTube</title>\n"
     ]
    }
   ],
   "source": [
    "#web scraping\n",
    "import re ,urllib\n",
    "import urllib.request\n",
    "sites=['https://www.google.com','https://www.youtube.com']\n",
    "for s in sites:\n",
    "    print('Searching....',s)\n",
    "    u=urllib.request.urlopen(s)\n",
    "    text =u.read()\n",
    "    title=re.findall('<title>.*</title>', str(text), re.IGNORECASE)\n",
    "    print(title[0])\n",
    "    \n",
    "    \n"
   ]
  },
  {
   "cell_type": "code",
   "execution_count": null,
   "metadata": {},
   "outputs": [],
   "source": [
    "import re\n",
    "import urllib.request\n",
    "url=['https://www.google.com','https://www.youtube.com']\n",
    "for s in sites:\n",
    "    print('Searching....',s)\n",
    "    u=urllib.request.urlopen(s)\n",
    "    text =u.read()\n",
    "    title=re.findall('<title>.*</title>', str(text), re.IGNORECASE)\n",
    "    print(title[0])\n",
    "    "
   ]
  }
 ],
 "metadata": {
  "kernelspec": {
   "display_name": "Python 3",
   "language": "python",
   "name": "python3"
  },
  "language_info": {
   "codemirror_mode": {
    "name": "ipython",
    "version": 3
   },
   "file_extension": ".py",
   "mimetype": "text/x-python",
   "name": "python",
   "nbconvert_exporter": "python",
   "pygments_lexer": "ipython3",
   "version": "3.7.4"
  }
 },
 "nbformat": 4,
 "nbformat_minor": 2
}
